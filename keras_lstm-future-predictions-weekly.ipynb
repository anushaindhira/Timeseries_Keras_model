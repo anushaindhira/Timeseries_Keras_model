{
 "cells": [
  {
   "cell_type": "code",
   "execution_count": 1,
   "metadata": {},
   "outputs": [
    {
     "name": "stderr",
     "output_type": "stream",
     "text": [
      "Using TensorFlow backend.\n",
      "/Users/anusha/anaconda3/lib/python3.6/site-packages/IPython/core/interactiveshell.py:3020: DtypeWarning: Columns (5) have mixed types. Specify dtype option on import or set low_memory=False.\n",
      "  interactivity=interactivity, compiler=compiler, result=result)\n"
     ]
    },
    {
     "data": {
      "text/plain": [
       "101"
      ]
     },
     "execution_count": 1,
     "metadata": {},
     "output_type": "execute_result"
    }
   ],
   "source": [
    "#keras_timeseries.py\n",
    "import tensorflow as tf\n",
    "import pandas as pd\n",
    "import numpy as np\n",
    "import matplotlib.pyplot as plt\n",
    "import math\n",
    "from math import sqrt\n",
    "from sklearn.metrics import mean_squared_error\n",
    "from keras.models import Sequential\n",
    "from keras.layers import Dense\n",
    "from keras.layers import Dropout\n",
    "from keras.layers import Flatten    \n",
    "from keras.layers import LSTM\n",
    "from keras.layers.convolutional import Conv1D\n",
    "from keras.layers.convolutional import MaxPooling1D\n",
    "#from keras.layers.convolutional import Convolution2D\n",
    "#from keras.layers.convolutional import MaxPooling2D\n",
    "from sklearn.preprocessing import LabelEncoder,OneHotEncoder\n",
    "from sklearn.preprocessing import MinMaxScaler\n",
    "from keras import optimizers\n",
    "#from keras import backend as K\n",
    "\n",
    "df = pd.read_csv(\"customers_timeseries_updated.csv\")\n",
    "#df = pd.read_csv(\"data-1000customers.csv\")\n",
    "#df = pd.read_csv(\"100_timeseries_checking_to_share.csv\")\n",
    "#print (df.columns.values)\n",
    "#df = df.iloc[:,0:3]\n",
    "#use column names\n",
    "df = df[['client_debtor_number','dates','fv_cost']]\n",
    "#print(\"new dataset columns \",df.columns.values)\n",
    "#df.head()\n",
    "# number of customers\n",
    "len(df['client_debtor_number'].unique())"
   ]
  },
  {
   "cell_type": "code",
   "execution_count": 2,
   "metadata": {},
   "outputs": [],
   "source": [
    "df_1015130 = df[df['client_debtor_number'] == 1015193]\n",
    "del df_1015130['client_debtor_number']\n"
   ]
  },
  {
   "cell_type": "code",
   "execution_count": 3,
   "metadata": {},
   "outputs": [
    {
     "name": "stdout",
     "output_type": "stream",
     "text": [
      "train_data  0           0.000000\n",
      "1           0.000000\n",
      "2           0.000000\n",
      "3           0.000000\n",
      "4           0.000000\n",
      "5           0.000000\n",
      "6           0.000000\n",
      "7           0.000000\n",
      "8           0.000000\n",
      "9           0.000000\n",
      "10          0.000000\n",
      "11          0.000000\n",
      "12          0.000000\n",
      "13          0.000000\n",
      "14          0.000000\n",
      "15          0.000000\n",
      "16          0.000000\n",
      "17          0.000000\n",
      "18          0.000000\n",
      "19          0.000000\n",
      "20          0.000000\n",
      "21          0.000000\n",
      "22          0.000000\n",
      "23          0.000000\n",
      "24          0.000000\n",
      "25          0.000000\n",
      "26          0.000000\n",
      "27          0.000000\n",
      "28          0.000000\n",
      "29          0.000000\n",
      "             ...    \n",
      "307581    190.301116\n",
      "307582    193.302938\n",
      "307583    196.305162\n",
      "307584    197.021261\n",
      "307585    199.928856\n",
      "307586    191.000154\n",
      "307587    194.007212\n",
      "307588    194.524591\n",
      "307589    197.375700\n",
      "307590    200.080716\n",
      "307591     61.073114\n",
      "307592     62.782689\n",
      "307593     64.492494\n",
      "307594     66.202527\n",
      "307595     67.912788\n",
      "307596     67.921500\n",
      "307597     70.007468\n",
      "307598     71.637040\n",
      "307599     71.879163\n",
      "307600     73.556932\n",
      "307601    351.494657\n",
      "307602    354.894033\n",
      "307603    358.293864\n",
      "307604    361.425029\n",
      "307605    364.835032\n",
      "307606    368.245490\n",
      "307607    371.656404\n",
      "307608    375.067774\n",
      "307609    378.479600\n",
      "307610    381.891882\n",
      "Name: fv_cost, Length: 3192, dtype: float64\n",
      "test_data  152       392.131466\n",
      "153       381.770362\n",
      "154       385.427760\n",
      "155       389.324922\n",
      "156       393.222606\n",
      "157       397.120811\n",
      "158       401.019537\n",
      "159       404.918784\n",
      "160       788.531212\n",
      "161       794.142636\n",
      "162       801.190424\n",
      "163       806.942346\n",
      "164       814.036652\n",
      "165       821.131907\n",
      "166       828.228111\n",
      "167       782.594663\n",
      "168       788.944640\n",
      "169       794.757227\n",
      "16340     408.818552\n",
      "16341     408.818552\n",
      "16342     406.676080\n",
      "16343     408.093676\n",
      "16344     412.295644\n",
      "16345     416.498174\n",
      "16346     420.701265\n",
      "16347     424.904919\n",
      "16348     429.109134\n",
      "16349     433.313911\n",
      "16350     801.127428\n",
      "16351     807.498480\n",
      "             ...    \n",
      "275251    813.232789\n",
      "275252    803.548415\n",
      "275253    808.921157\n",
      "275254    816.033003\n",
      "275255    823.145800\n",
      "275256    823.145800\n",
      "275257    828.225651\n",
      "275258    835.410353\n",
      "275259    835.410353\n",
      "275260    835.410353\n",
      "291431    841.660312\n",
      "291432    848.879140\n",
      "291433    856.098933\n",
      "291434    863.319691\n",
      "291435    870.541415\n",
      "291436    876.956745\n",
      "291437    884.208187\n",
      "291438    891.460599\n",
      "291439    897.381822\n",
      "291440    904.387655\n",
      "307611    798.491611\n",
      "307612    806.747737\n",
      "307613    806.747737\n",
      "307614    815.152290\n",
      "307615    782.783906\n",
      "307616    787.191543\n",
      "307617    777.052551\n",
      "307618    782.484156\n",
      "307619    788.999546\n",
      "307620    781.740596\n",
      "Name: fv_cost, Length: 286, dtype: float64\n"
     ]
    }
   ],
   "source": [
    "#df[df.Date.str.match(r'^2018-06')]\n",
    "#df[df[\\\"col\\\"].str.contains('this|that')==False]\n",
    "# splitting train and test datasets \n",
    "#training 2010-2017, testing on 2018 data\\\n",
    "train_x = df_1015130[df_1015130['dates'].str.contains('/2018') == False]\n",
    "test_x = df_1015130[df_1015130['dates'].str.contains('/2018') == True]\n",
    "#print(test_x.dates)\n",
    "train_x_cust = train_x['fv_cost']\n",
    "test_x_cust = test_x['fv_cost']\n",
    "\n",
    "print(\"train_data \",train_x_cust)\n",
    "print(\"test_data \", test_x_cust)"
   ]
  },
  {
   "cell_type": "code",
   "execution_count": 4,
   "metadata": {},
   "outputs": [
    {
     "name": "stdout",
     "output_type": "stream",
     "text": [
      "(3189, 1, 3)\n",
      "(3189,)\n"
     ]
    }
   ],
   "source": [
    "\n",
    "def lag_feature(df, lag=1):\n",
    "    if not type(df) == pd.DataFrame:\n",
    "        df = pd.DataFrame(df, columns=['fv_cost'])\n",
    "    \n",
    "    def rename_lag(ser, j):\n",
    "        ser.name = ser.name + f'_{j}'\n",
    "        return ser\n",
    "        \n",
    "    # add a column lagged by `i` steps\n",
    "    for i in range(1, lag + 1):\n",
    "        df = df.join(df.fv_cost.shift(i).pipe(rename_lag, i))\n",
    "\n",
    "    df.dropna(inplace=True)\n",
    "    return df\n",
    "\n",
    "def prepare_training_data(series_data, lag):\n",
    "    \" Converts a series of data into a lagged, scaled sample.\"\n",
    "    # scale training data\n",
    "    scaler = MinMaxScaler(feature_range=(-1, 1))\n",
    "    cost_vals = scaler.fit_transform(series_data.values.reshape(-1, 1))\n",
    "    \n",
    "    # convert series to lagged features\n",
    "    cost_lagged = lag_feature(cost_vals, lag=lag)\n",
    "\n",
    "    # X, y format taking the first column (original time series) to be the y\n",
    "    X = cost_lagged.drop('fv_cost', axis=1).values\n",
    "    y = cost_lagged.fv_cost.values\n",
    "    \n",
    "    # keras expects 3 dimensional X\n",
    "    X = X.reshape(X.shape[0], 1, X.shape[1])\n",
    "    \n",
    "    return X, y, scaler\n",
    "\n",
    "train_x_cust,train_y_cust, scalar_train = prepare_training_data(train_x['fv_cost'], 3)\n",
    "test_x_cust,test_y_cust,scalar_test = prepare_training_data(test_x['fv_cost'], 3)\n",
    "print(train_x_cust.shape)\n",
    "print(train_y_cust.shape)\n"
   ]
  },
  {
   "cell_type": "code",
   "execution_count": 5,
   "metadata": {},
   "outputs": [],
   "source": [
    "\n",
    "lag =  3\n",
    "# model parameters\n",
    "num_neurons = 50 #24\n",
    "batch_size = 1  # this forces the lstm to step through each time-step one at a time\n",
    "batch_input_shape=(batch_size, 1, lag)\n",
    "dropout_rate =0.2\n",
    "# instantiate a sequential model\n",
    "model = Sequential()\n",
    "model.add(Conv1D(filters=num_neurons,batch_size=1, kernel_size=3, strides=3, \n",
    "                 padding=\"same\",activation='linear',dilation_rate=1, \n",
    "                 input_shape=(1, 3),data_format='channels_first'))\n",
    "model.add(MaxPooling1D(pool_size=3,strides=3, padding=\"same\"))\n",
    "model.add(Dropout(dropout_rate))\n",
    "# add LSTM layer - stateful MUST be true here in \n",
    "# order to learn the patterns within a series\n",
    "model.add(LSTM(units=num_neurons, \n",
    "              batch_input_shape=batch_input_shape, return_sequences=False,# as we only want last hidden output \n",
    "              stateful=True))\n",
    "model.add(Dense(1,activation='linear'))\n",
    "from keras import optimizers\n",
    "adam = optimizers.Adam(lr=0.01, decay=0.01)\n",
    "model.compile(loss='mean_squared_error', optimizer=adam)"
   ]
  },
  {
   "cell_type": "code",
   "execution_count": 6,
   "metadata": {},
   "outputs": [
    {
     "name": "stdout",
     "output_type": "stream",
     "text": [
      "Epoch 1/10\n",
      " - 49s - loss: 0.0323\n",
      "Epoch 2/10\n",
      " - 47s - loss: 0.0189\n",
      "Epoch 3/10\n",
      " - 47s - loss: 0.0185\n",
      "Epoch 4/10\n",
      " - 47s - loss: 0.0175\n",
      "Epoch 5/10\n",
      " - 47s - loss: 0.0170\n",
      "Epoch 6/10\n",
      " - 47s - loss: 0.0174\n",
      "Epoch 7/10\n",
      " - 47s - loss: 0.0174\n",
      "Epoch 8/10\n",
      " - 48s - loss: 0.0170\n",
      "Epoch 9/10\n",
      " - 48s - loss: 0.0174\n",
      "Epoch 10/10\n",
      " - 48s - loss: 0.0171\n"
     ]
    },
    {
     "data": {
      "text/plain": [
       "<keras.callbacks.History at 0x1a230b9f28>"
      ]
     },
     "execution_count": 6,
     "metadata": {},
     "output_type": "execute_result"
    }
   ],
   "source": [
    "model.fit(train_x_cust, train_y_cust, epochs=10, batch_size=batch_size, verbose=2, shuffle=False)"
   ]
  },
  {
   "cell_type": "code",
   "execution_count": 7,
   "metadata": {
    "scrolled": true
   },
   "outputs": [
    {
     "name": "stdout",
     "output_type": "stream",
     "text": [
      "Train Score: 0.01 MSE (0.12 RMSE)\n",
      "Test Score: 0.09 MSE (0.30 RMSE)\n",
      "unscaled test score 724.851458 MSE\n",
      "actual test rmse  56.8891378239897\n",
      "actual train rmse  46.3822232086311\n"
     ]
    }
   ],
   "source": [
    "\n",
    "# Estimate model performance\n",
    "# default batch size is 32 so we need to give batch size explicitly if we want different batch size or \n",
    "# input size should be divisible by batch size for stateful LSTM\n",
    "trainScore = model.evaluate(train_x_cust, train_y_cust, batch_size=1, verbose=2)\n",
    "print('Train Score: %.2f MSE (%.2f RMSE)' % (trainScore, math.sqrt(trainScore)))\n",
    "testScore = model.evaluate(test_x_cust, test_y_cust, batch_size=1, verbose=2)\n",
    "print('Test Score: %.2f MSE (%.2f RMSE)' % (testScore, math.sqrt(testScore)))\n",
    "\n",
    "print('unscaled test score %f MSE' %(scalar_test.inverse_transform(testScore)))\n",
    "yhat_act_test = scalar_test.inverse_transform(testScore)\n",
    "yhat_act_train = scalar_train.inverse_transform(trainScore)\n",
    "#print (math.sqrt(scaler.inverse_transform(testScore)))\n",
    "#print (\"actual train mean_squared_error \",mean_squared_error(test_x.fv_cost[-(len(yhat_act_test)):], yhat_act_test))\n",
    "print (\"actual test rmse \",sqrt(mean_squared_error(test_x.fv_cost[-(len(yhat_act_test)):], yhat_act_test)))\n",
    "print (\"actual train rmse \",sqrt(mean_squared_error(train_x.fv_cost[-(len(yhat_act_train)):],yhat_act_train)))\n",
    "#scaler.inverse_transform(testScore)"
   ]
  },
  {
   "cell_type": "code",
   "execution_count": 8,
   "metadata": {},
   "outputs": [],
   "source": [
    "# generate predictions for training\n",
    "trainPredict = model.predict(train_x_cust,batch_size=1)\n",
    "testPredict = model.predict(test_x_cust,batch_size=1)\n",
    "\n",
    "# shift train predictions for plotting\n",
    "trainPredictPlot = np.empty_like(df_1015130)\n",
    "trainPredictPlot[:, :] = np.nan\n",
    "trainPredictPlot[lag:len(trainPredict)+lag, :] = trainPredict\n",
    " \n",
    "# shift test predictions for plotting\n",
    "testPredictPlot = np.empty_like(df_1015130)\n",
    "testPredictPlot[:, :] = np.nan\n",
    "#testPredictPlot[len(trainPredict)+(lag*2)+1:len(df_1015130)-1, :] = testPredict\n"
   ]
  },
  {
   "cell_type": "code",
   "execution_count": 11,
   "metadata": {},
   "outputs": [
    {
     "name": "stdout",
     "output_type": "stream",
     "text": [
      "100019  Test RMSE:  212.9444811085056\n"
     ]
    }
   ],
   "source": [
    "# inverse scaling for a forecasted value\n",
    "cust_id = \"100019\"\n",
    "#y_inv = invert_scale(scaler, test_x_cust, testPredict)\n",
    "yhat_act = scalar_test.inverse_transform(testPredict)\n",
    "rmse = sqrt(mean_squared_error(test_x.fv_cost[-(len(yhat_act)):], yhat_act))\n",
    "print(cust_id,\" Test RMSE: \",rmse)"
   ]
  },
  {
   "cell_type": "code",
   "execution_count": 12,
   "metadata": {},
   "outputs": [],
   "source": [
    "# write predictions into csv\n",
    "result_prediction = pd.DataFrame()#, original_fv : test_y_cust, prediction_fv :testPredict})\n",
    "#result_prediction['dates'] = test_x['dates']\n",
    "result_prediction['original_fv'] = test_y_cust\n",
    "result_prediction['prediction_fv'] = testPredict\n",
    "\n",
    "result_prediction.to_csv(\"predictions_for_client_1015193.csv\")"
   ]
  },
  {
   "cell_type": "code",
   "execution_count": 40,
   "metadata": {},
   "outputs": [
    {
     "name": "stdout",
     "output_type": "stream",
     "text": [
      "(1, 1, 3)\n"
     ]
    }
   ],
   "source": [
    "# predictions for timesteps ahead\n",
    "# 7,14 ,21 timesteps ahead\n",
    "#we need atleast 4 elements to prepare training data\n",
    "futureElement = testPredict[-4:]\n",
    "\n",
    "def prepare_training_data_array(series_data, lag):\n",
    "    \" Converts a series of data into a lagged, scaled sample.\"\n",
    "    # scale training data\n",
    "    scaler = MinMaxScaler(feature_range=(-1, 1))\n",
    "    cost_vals = scaler.fit_transform(series_data.reshape(-1, 1))\n",
    "    \n",
    "    # convert series to lagged features\n",
    "    cost_lagged = lag_feature(cost_vals, lag=lag)\n",
    "\n",
    "    # X, y format taking the first column (original time series) to be the y\n",
    "    X = cost_lagged.drop('fv_cost', axis=1).values\n",
    "    y = cost_lagged.fv_cost.values\n",
    "    \n",
    "    # keras expects 3 dimensional X\n",
    "    X = X.reshape(X.shape[0], 1, X.shape[1])\n",
    "    \n",
    "    return X, y, scaler\n",
    "\n",
    "futureElement_x,futureElement_y,scalar = prepare_training_data_array(futureElement, 3)\n",
    "print(futureElement_x.shape)\n",
    "x=futureElement[-4:]\n",
    "#def timestep_ahead(num,model,futureElement):\n",
    "#futureElement = futureElement_x\n",
    "def timestep_ahead(num,model,futureElement,x):\n",
    "    futureElements = []\n",
    "    unscaled_prediction =[]\n",
    "    futureElements.append(futureElement.tolist())\n",
    "    for i in range(num):\n",
    "        futureElement_x,futureElement_y,scalar = prepare_training_data_array(futureElement[-4:], 3)\n",
    "        print(futureElement_x.shape,\"shape after preparing data in 1st iteration\")\n",
    "        print(\"future element value after preparing data\",futureElement_x)\n",
    "        futureElement = model.predict(futureElement_x,batch_size=1,verbose=2)\n",
    "        unscaled_prediction.append(scalar.inverse_transform(futureElement).tolist())\n",
    "        print(\"unscaled prediction \",unscaled_prediction)\n",
    "        futureElements.append(futureElement)\n",
    "        print(\"future element before appending x\",futureElement)\n",
    "        futureElement = np.append(x,futureElement)\n",
    "        x=futureElement[-4:]\n",
    "        print(\"future element after appending x\",futureElement)\n",
    "        print(\"futureElements \",futureEltestPredict[-4:])\n",
    "        print(\"iteration \",i,\"  complete\")     \n",
    "    return (futureElement[-1],futureElements,unscaled_prediction)\n",
    "\n"
   ]
  },
  {
   "cell_type": "code",
   "execution_count": null,
   "metadata": {},
   "outputs": [],
   "source": [
    "_7time_ahead,elements,unscaled_prediction = timestep_ahead(7,model,futureElement,x)\n",
    "print (\"scaled prediction value on 7th day ahead \",_7time_ahead)\n",
    "_14time_ahead,elements,unscaled_prediction  = timestep_ahead(14,model,futureElement,x)\n",
    "print (\"scaled prediction value on 14th day ahead \",_14time_ahead)\n",
    "_21time_ahead,elements,unscaled_prediction  = timestep_ahead(21,model,futureElement,x)\n",
    "print (\"scaled prediction value on 21st day ahead \",_21time_ahead)"
   ]
  },
  {
   "cell_type": "code",
   "execution_count": null,
   "metadata": {},
   "outputs": [],
   "source": [
    "# 3months ahead predicitons\n",
    "_91days_ahead,elements,unscaled_prediction = timestep_ahead(91,model,futureElement,x)\n",
    "print (\"scaled prediction value on 91st day ahead \",_91days_ahead)\n"
   ]
  },
  {
   "cell_type": "code",
   "execution_count": 50,
   "metadata": {},
   "outputs": [
    {
     "name": "stdout",
     "output_type": "stream",
     "text": [
      "fe_x  [[[ 0.15081406 -1.          1.        ]]]\n",
      "fe_y  [0.8552742]\n",
      "fe  [[0.2667769 ]\n",
      " [0.23281354]\n",
      " [0.2523563 ]\n",
      " [0.2643192 ]]\n",
      "fe_x shape  (1, 1, 3)\n",
      "fe shape  (4, 1)\n"
     ]
    },
    {
     "data": {
      "text/plain": [
       "array([[0.2667769 ],\n",
       "       [0.23281354],\n",
       "       [0.2523563 ],\n",
       "       [0.2643192 ]], dtype=float32)"
      ]
     },
     "execution_count": 50,
     "metadata": {},
     "output_type": "execute_result"
    }
   ],
   "source": [
    "print (\"fe_x \",futureElement_x)\n",
    "print (\"fe_y \",futureElement_y)\n",
    "print (\"fe \",futureElement)\n",
    "print (\"fe_x shape \",futureElement_x.shape)\n",
    "print (\"fe shape \",futureElement.shape)\n",
    "testPredict[-4:] #Do not scale when Future Element is TestPredict"
   ]
  },
  {
   "cell_type": "code",
   "execution_count": 62,
   "metadata": {},
   "outputs": [
    {
     "name": "stdout",
     "output_type": "stream",
     "text": [
      "[[0.2667769 ]\n",
      " [0.23281354]\n",
      " [0.2523563 ]\n",
      " [0.2643192 ]]\n",
      "(4, 1)\n",
      "x  [[[0.2667769  0.23281354 0.2523563  0.2643192 ]]]\n",
      "x shape  (1, 1, 4)\n"
     ]
    }
   ],
   "source": [
    "X=testPredict[-4:]\n",
    "print (X)\n",
    "print (X.shape)# we want 4 values if we need y as well as 3 are sufficient\n",
    "X=X.reshape(X.shape[1], 1, X.shape[0])\n",
    "print (\"x \",X)\n",
    "print (\"x shape \",X.shape)"
   ]
  },
  {
   "cell_type": "markdown",
   "metadata": {},
   "source": [
    "Experimentation on Future values of train dataset"
   ]
  },
  {
   "cell_type": "code",
   "execution_count": 66,
   "metadata": {},
   "outputs": [
    {
     "name": "stdout",
     "output_type": "stream",
     "text": [
      "307608    375.067774\n",
      "307609    378.479600\n",
      "307610    381.891882\n",
      "Name: fv_cost, dtype: float64\n",
      "shape  (3,)\n",
      "shape -1  (3, 1)\n"
     ]
    },
    {
     "name": "stderr",
     "output_type": "stream",
     "text": [
      "/Users/anusha/anaconda3/lib/python3.6/site-packages/ipykernel_launcher.py:4: FutureWarning: reshape is deprecated and will raise in a subsequent release. Please use .values.reshape(...) instead\n",
      "  after removing the cwd from sys.path.\n"
     ]
    },
    {
     "data": {
      "text/plain": [
       "array([[[375.067774 , 378.4796001, 381.8918823]]])"
      ]
     },
     "execution_count": 66,
     "metadata": {},
     "output_type": "execute_result"
    }
   ],
   "source": [
    "x=futureElement[-3:]\n",
    "print (x)\n",
    "print (\"shape \",x.shape)\n",
    "x=x.reshape(-1, 1)\n",
    "print (\"shape -1 \",x.shape)\n",
    "x.reshape(x.shape[1], 1, x.shape[0])"
   ]
  },
  {
   "cell_type": "code",
   "execution_count": 69,
   "metadata": {},
   "outputs": [],
   "source": [
    "# predictions for timesteps ahead\n",
    "# 7,14 ,21 timesteps ahead\n",
    "#we need atleast 4 elements to prepare training data\n",
    "futureElement = testPredict[-4:]\n",
    "# if using testpredict as futureElement no need to scale data again using MinMaxscalar\n",
    "futureElement = train_x.fv_cost[-4:]\n",
    " \n",
    "#futureElement_x,futureElement_y,scalar = prepare_training_data_array(futureElement, 3)\n",
    "#print(futureElement_x.shape)\n",
    "#x=futureElement[-4:]\n",
    "#def timestep_ahead(num,model,futureElement):\n",
    "#futureElement = futureElement_x\n",
    "def timestep_ahead(num,model,futureElement,x):\n",
    "    #Since we are using train we need to scale the input\n",
    "    futureElement_x,futureElement_y,scalar = prepare_training_data_array(futureElement[-4:], 3)\n",
    "    print (\"shape of fe_x before for loop \",futureElement_x.shape)\n",
    "    futureElements = []\n",
    "    unscaled_prediction =[]\n",
    "    futureElements.append(futureElement.tolist())\n",
    "    # plus 1 because one value for futureElement_y \n",
    "    for i in range(num+1):\n",
    "        print(futureElement_x.shape,\"shape after preparing data in \",i,\" iteration\")\n",
    "        print(\"future element value after preparing data\",futureElement_x)\n",
    "        futureElement = model.predict(futureElement_x,batch_size=1,verbose=2)\n",
    "        unscaled_prediction.append(scalar.inverse_transform(futureElement).tolist())\n",
    "        print(\"unscaled prediction \",unscaled_prediction)\n",
    "        futureElements.append(futureElement.tolist())\n",
    "        print(\"future element before appending x\",futureElement)\n",
    "        futureElement = np.append(x,futureElement)\n",
    "        x=futureElement[-3:]\n",
    "        futureElement_x=x.reshape(-1, 1)\n",
    "        futureElement_x=futureElement_x.reshape(\n",
    "            futureElement_x.shape[1], 1, futureElement_x.shape[0])\n",
    "        print(\"future element after appending x\",futureElement)\n",
    "        print(\"futureElements \",futureElements)     \n",
    "        print(\"iteration \",i,\"  complete\")     \n",
    "    return (futureElement[-1],futureElements,unscaled_prediction)\n"
   ]
  },
  {
   "cell_type": "code",
   "execution_count": 70,
   "metadata": {},
   "outputs": [
    {
     "name": "stdout",
     "output_type": "stream",
     "text": [
      "shape of fe_x before for loop  (1, 1, 3)\n",
      "(1, 1, 3) shape after preparing data in  0  iteration\n",
      "future element value after preparing data [[[ 0.33324421 -0.33342245 -1.        ]]]\n",
      "unscaled prediction  [[[376.7713317871094]]]\n",
      "future element before appending x [[-0.00054966]]\n",
      "future element after appending x [ 3.75067774e+02  3.78479600e+02  3.81891882e+02 -5.49659133e-04]\n",
      "futureElements  [[371.656404, 375.06777400000004, 378.4796001, 381.8918823], [[-0.0005496591329574585]]]\n",
      "iteration  0   complete\n",
      "(1, 1, 3) shape after preparing data in  1  iteration\n",
      "future element value after preparing data [[[ 3.78479600e+02  3.81891882e+02 -5.49659133e-04]]]\n",
      "unscaled prediction  [[[376.7713317871094]], [[379.7027587890625]]]\n",
      "future element before appending x [[0.5722511]]\n",
      "future element after appending x [ 3.78479600e+02  3.81891882e+02 -5.49659133e-04  5.72251081e-01]\n",
      "futureElements  [[371.656404, 375.06777400000004, 378.4796001, 381.8918823], [[-0.0005496591329574585]], [[0.5722510814666748]]]\n",
      "iteration  1   complete\n",
      "(1, 1, 3) shape after preparing data in  2  iteration\n",
      "future element value after preparing data [[[ 3.81891882e+02 -5.49659133e-04  5.72251081e-01]]]\n",
      "unscaled prediction  [[[376.7713317871094]], [[379.7027587890625]], [[377.8948669433594]]]\n",
      "future element before appending x [[0.218988]]\n",
      "future element after appending x [ 3.81891882e+02 -5.49659133e-04  5.72251081e-01  2.18988001e-01]\n",
      "futureElements  [[371.656404, 375.06777400000004, 378.4796001, 381.8918823], [[-0.0005496591329574585]], [[0.5722510814666748]], [[0.21898800134658813]]]\n",
      "iteration  2   complete\n",
      "(1, 1, 3) shape after preparing data in  3  iteration\n",
      "future element value after preparing data [[[-5.49659133e-04  5.72251081e-01  2.18988001e-01]]]\n",
      "unscaled prediction  [[[376.7713317871094]], [[379.7027587890625]], [[377.8948669433594]], [[376.3298034667969]]]\n",
      "future element before appending x [[-0.0868222]]\n",
      "future element after appending x [-5.49659133e-04  5.72251081e-01  2.18988001e-01 -8.68221968e-02]\n",
      "futureElements  [[371.656404, 375.06777400000004, 378.4796001, 381.8918823], [[-0.0005496591329574585]], [[0.5722510814666748]], [[0.21898800134658813]], [[-0.08682219684123993]]]\n",
      "iteration  3   complete\n",
      "(1, 1, 3) shape after preparing data in  4  iteration\n",
      "future element value after preparing data [[[ 0.57225108  0.218988   -0.0868222 ]]]\n",
      "unscaled prediction  [[[376.7713317871094]], [[379.7027587890625]], [[377.8948669433594]], [[376.3298034667969]], [[379.3179626464844]]]\n",
      "future element before appending x [[0.49706087]]\n",
      "future element after appending x [ 0.57225108  0.218988   -0.0868222   0.49706087]\n",
      "futureElements  [[371.656404, 375.06777400000004, 378.4796001, 381.8918823], [[-0.0005496591329574585]], [[0.5722510814666748]], [[0.21898800134658813]], [[-0.08682219684123993]], [[0.4970608651638031]]]\n",
      "iteration  4   complete\n",
      "(1, 1, 3) shape after preparing data in  5  iteration\n",
      "future element value after preparing data [[[ 0.218988   -0.0868222   0.49706087]]]\n",
      "unscaled prediction  [[[376.7713317871094]], [[379.7027587890625]], [[377.8948669433594]], [[376.3298034667969]], [[379.3179626464844]], [[377.404296875]]]\n",
      "future element before appending x [[0.12313065]]\n",
      "future element after appending x [ 0.218988   -0.0868222   0.49706087  0.12313065]\n",
      "futureElements  [[371.656404, 375.06777400000004, 378.4796001, 381.8918823], [[-0.0005496591329574585]], [[0.5722510814666748]], [[0.21898800134658813]], [[-0.08682219684123993]], [[0.4970608651638031]], [[0.12313064932823181]]]\n",
      "iteration  5   complete\n",
      "(1, 1, 3) shape after preparing data in  6  iteration\n",
      "future element value after preparing data [[[-0.0868222   0.49706087  0.12313065]]]\n",
      "unscaled prediction  [[[376.7713317871094]], [[379.7027587890625]], [[377.8948669433594]], [[376.3298034667969]], [[379.3179626464844]], [[377.404296875]], [[376.5994873046875]]]\n",
      "future element before appending x [[-0.03412594]]\n",
      "future element after appending x [-0.0868222   0.49706087  0.12313065 -0.03412594]\n",
      "futureElements  [[371.656404, 375.06777400000004, 378.4796001, 381.8918823], [[-0.0005496591329574585]], [[0.5722510814666748]], [[0.21898800134658813]], [[-0.08682219684123993]], [[0.4970608651638031]], [[0.12313064932823181]], [[-0.03412593901157379]]]\n",
      "iteration  6   complete\n",
      "(1, 1, 3) shape after preparing data in  7  iteration\n",
      "future element value after preparing data [[[ 0.49706087  0.12313065 -0.03412594]]]\n",
      "unscaled prediction  [[[376.7713317871094]], [[379.7027587890625]], [[377.8948669433594]], [[376.3298034667969]], [[379.3179626464844]], [[377.404296875]], [[376.5994873046875]], [[378.942626953125]]]\n",
      "future element before appending x [[0.42371747]]\n",
      "future element after appending x [ 0.49706087  0.12313065 -0.03412594  0.42371747]\n",
      "futureElements  [[371.656404, 375.06777400000004, 378.4796001, 381.8918823], [[-0.0005496591329574585]], [[0.5722510814666748]], [[0.21898800134658813]], [[-0.08682219684123993]], [[0.4970608651638031]], [[0.12313064932823181]], [[-0.03412593901157379]], [[0.4237174689769745]]]\n",
      "iteration  7   complete\n",
      "prediction of 7days ahead  0.4237174689769745  unscaled prediction  [[378.942626953125]]  actual value  404.91878360000004\n"
     ]
    },
    {
     "name": "stderr",
     "output_type": "stream",
     "text": [
      "/Users/anusha/anaconda3/lib/python3.6/site-packages/ipykernel_launcher.py:10: FutureWarning: reshape is deprecated and will raise in a subsequent release. Please use .values.reshape(...) instead\n",
      "  # Remove the CWD from sys.path while we load stuff.\n"
     ]
    }
   ],
   "source": [
    "#comparing future elements of train data with test dataset to check model performance\n",
    "_7ahead,elements,unscaled_prediction = timestep_ahead(7,model,train_x.fv_cost[-4:],x)\n",
    "print (\"prediction of 7days ahead \",_7ahead,\" unscaled prediction \",unscaled_prediction[-1],\" actual value \",test_x.fv_cost.iloc[7])"
   ]
  },
  {
   "cell_type": "code",
   "execution_count": 72,
   "metadata": {},
   "outputs": [
    {
     "name": "stdout",
     "output_type": "stream",
     "text": [
      "shape of fe_x before for loop  (1, 1, 3)\n",
      "(1, 1, 3) shape after preparing data in  0  iteration\n",
      "future element value after preparing data [[[ 0.33324421 -0.33342245 -1.        ]]]\n",
      "unscaled prediction  [[[376.7951354980469]]]\n",
      "future element before appending x [[0.00410614]]\n",
      "future element after appending x [3.75067774e+02 3.78479600e+02 3.81891882e+02 4.10614163e-03]\n",
      "futureElements  [[371.656404, 375.06777400000004, 378.4796001, 381.8918823], [[0.004106141626834869]]]\n",
      "iteration  0   complete\n",
      "(1, 1, 3) shape after preparing data in  1  iteration\n",
      "future element value after preparing data [[[3.78479600e+02 3.81891882e+02 4.10614163e-03]]]\n",
      "unscaled prediction  [[[376.7951354980469]], [[379.7044372558594]]]\n",
      "future element before appending x [[0.5725769]]\n",
      "future element after appending x [3.78479600e+02 3.81891882e+02 4.10614163e-03 5.72576880e-01]\n",
      "futureElements  [[371.656404, 375.06777400000004, 378.4796001, 381.8918823], [[0.004106141626834869]], [[0.5725768804550171]]]\n",
      "iteration  1   complete\n",
      "(1, 1, 3) shape after preparing data in  2  iteration\n",
      "future element value after preparing data [[[3.81891882e+02 4.10614163e-03 5.72576880e-01]]]\n",
      "unscaled prediction  [[[376.7951354980469]], [[379.7044372558594]], [[377.8948669433594]]]\n",
      "future element before appending x [[0.21898246]]\n",
      "future element after appending x [3.81891882e+02 4.10614163e-03 5.72576880e-01 2.18982458e-01]\n",
      "futureElements  [[371.656404, 375.06777400000004, 378.4796001, 381.8918823], [[0.004106141626834869]], [[0.5725768804550171]], [[0.21898245811462402]]]\n",
      "iteration  2   complete\n",
      "(1, 1, 3) shape after preparing data in  3  iteration\n",
      "future element value after preparing data [[[0.00410614 0.57257688 0.21898246]]]\n",
      "unscaled prediction  [[[376.7951354980469]], [[379.7044372558594]], [[377.8948669433594]], [[376.34698486328125]]]\n",
      "future element before appending x [[-0.0834682]]\n",
      "future element after appending x [ 0.00410614  0.57257688  0.21898246 -0.0834682 ]\n",
      "futureElements  [[371.656404, 375.06777400000004, 378.4796001, 381.8918823], [[0.004106141626834869]], [[0.5725768804550171]], [[0.21898245811462402]], [[-0.08346819877624512]]]\n",
      "iteration  3   complete\n",
      "(1, 1, 3) shape after preparing data in  4  iteration\n",
      "future element value after preparing data [[[ 0.57257688  0.21898246 -0.0834682 ]]]\n",
      "unscaled prediction  [[[376.7951354980469]], [[379.7044372558594]], [[377.8948669433594]], [[376.34698486328125]], [[379.31878662109375]]]\n",
      "future element before appending x [[0.4972256]]\n",
      "future element after appending x [ 0.57257688  0.21898246 -0.0834682   0.49722561]\n",
      "futureElements  [[371.656404, 375.06777400000004, 378.4796001, 381.8918823], [[0.004106141626834869]], [[0.5725768804550171]], [[0.21898245811462402]], [[-0.08346819877624512]], [[0.4972256124019623]]]\n",
      "iteration  4   complete\n",
      "(1, 1, 3) shape after preparing data in  5  iteration\n",
      "future element value after preparing data [[[ 0.21898246 -0.0834682   0.49722561]]]\n",
      "unscaled prediction  [[[376.7951354980469]], [[379.7044372558594]], [[377.8948669433594]], [[376.34698486328125]], [[379.31878662109375]], [[377.40631103515625]]]\n",
      "future element before appending x [[0.12352724]]\n",
      "future element after appending x [ 0.21898246 -0.0834682   0.49722561  0.12352724]\n",
      "futureElements  [[371.656404, 375.06777400000004, 378.4796001, 381.8918823], [[0.004106141626834869]], [[0.5725768804550171]], [[0.21898245811462402]], [[-0.08346819877624512]], [[0.4972256124019623]], [[0.12352724373340607]]]\n",
      "iteration  5   complete\n",
      "(1, 1, 3) shape after preparing data in  6  iteration\n",
      "future element value after preparing data [[[-0.0834682   0.49722561  0.12352724]]]\n",
      "unscaled prediction  [[[376.7951354980469]], [[379.7044372558594]], [[377.8948669433594]], [[376.34698486328125]], [[379.31878662109375]], [[377.40631103515625]], [[376.6163330078125]]]\n",
      "future element before appending x [[-0.03084195]]\n",
      "future element after appending x [-0.0834682   0.49722561  0.12352724 -0.03084195]\n",
      "futureElements  [[371.656404, 375.06777400000004, 378.4796001, 381.8918823], [[0.004106141626834869]], [[0.5725768804550171]], [[0.21898245811462402]], [[-0.08346819877624512]], [[0.4972256124019623]], [[0.12352724373340607]], [[-0.030841946601867676]]]\n",
      "iteration  6   complete\n",
      "(1, 1, 3) shape after preparing data in  7  iteration\n",
      "future element value after preparing data [[[ 0.49722561  0.12352724 -0.03084195]]]\n",
      "unscaled prediction  [[[376.7951354980469]], [[379.7044372558594]], [[377.8948669433594]], [[376.34698486328125]], [[379.31878662109375]], [[377.40631103515625]], [[376.6163330078125]], [[378.9427490234375]]]\n",
      "future element before appending x [[0.4237416]]\n",
      "future element after appending x [ 0.49722561  0.12352724 -0.03084195  0.42374161]\n",
      "futureElements  [[371.656404, 375.06777400000004, 378.4796001, 381.8918823], [[0.004106141626834869]], [[0.5725768804550171]], [[0.21898245811462402]], [[-0.08346819877624512]], [[0.4972256124019623]], [[0.12352724373340607]], [[-0.030841946601867676]], [[0.4237416088581085]]]\n",
      "iteration  7   complete\n",
      "(1, 1, 3) shape after preparing data in  8  iteration\n",
      "future element value after preparing data [[[ 0.12352724 -0.03084195  0.42374161]]]\n",
      "unscaled prediction  [[[376.7951354980469]], [[379.7044372558594]], [[377.8948669433594]], [[376.34698486328125]], [[379.31878662109375]], [[377.40631103515625]], [[376.6163330078125]], [[378.9427490234375]], [[377.01043701171875]]]\n",
      "future element before appending x [[0.0461749]]\n",
      "future element after appending x [ 0.12352724 -0.03084195  0.42374161  0.0461749 ]\n",
      "futureElements  [[371.656404, 375.06777400000004, 378.4796001, 381.8918823], [[0.004106141626834869]], [[0.5725768804550171]], [[0.21898245811462402]], [[-0.08346819877624512]], [[0.4972256124019623]], [[0.12352724373340607]], [[-0.030841946601867676]], [[0.4237416088581085]], [[0.046174898743629456]]]\n",
      "iteration  8   complete\n",
      "(1, 1, 3) shape after preparing data in  9  iteration\n",
      "future element value after preparing data [[[-0.03084195  0.42374161  0.0461749 ]]]\n",
      "unscaled prediction  [[[376.7951354980469]], [[379.7044372558594]], [[377.8948669433594]], [[376.34698486328125]], [[379.31878662109375]], [[377.40631103515625]], [[376.6163330078125]], [[378.9427490234375]], [[377.01043701171875]], [[376.91949462890625]]]\n",
      "future element before appending x [[0.02840412]]\n",
      "future element after appending x [-0.03084195  0.42374161  0.0461749   0.02840412]\n",
      "futureElements  [[371.656404, 375.06777400000004, 378.4796001, 381.8918823], [[0.004106141626834869]], [[0.5725768804550171]], [[0.21898245811462402]], [[-0.08346819877624512]], [[0.4972256124019623]], [[0.12352724373340607]], [[-0.030841946601867676]], [[0.4237416088581085]], [[0.046174898743629456]], [[0.0284041166305542]]]\n",
      "iteration  9   complete\n",
      "(1, 1, 3) shape after preparing data in  10  iteration\n",
      "future element value after preparing data [[[0.42374161 0.0461749  0.02840412]]]\n",
      "unscaled prediction  [[[376.7951354980469]], [[379.7044372558594]], [[377.8948669433594]], [[376.34698486328125]], [[379.31878662109375]], [[377.40631103515625]], [[376.6163330078125]], [[378.9427490234375]], [[377.01043701171875]], [[376.91949462890625]], [[378.67279052734375]]]\n",
      "future element before appending x [[0.3709951]]\n",
      "future element after appending x [0.42374161 0.0461749  0.02840412 0.3709951 ]\n",
      "futureElements  [[371.656404, 375.06777400000004, 378.4796001, 381.8918823], [[0.004106141626834869]], [[0.5725768804550171]], [[0.21898245811462402]], [[-0.08346819877624512]], [[0.4972256124019623]], [[0.12352724373340607]], [[-0.030841946601867676]], [[0.4237416088581085]], [[0.046174898743629456]], [[0.0284041166305542]], [[0.37099510431289673]]]\n",
      "iteration  10   complete\n",
      "(1, 1, 3) shape after preparing data in  11  iteration\n",
      "future element value after preparing data [[[0.0461749  0.02840412 0.3709951 ]]]\n",
      "unscaled prediction  [[[376.7951354980469]], [[379.7044372558594]], [[377.8948669433594]], [[376.34698486328125]], [[379.31878662109375]], [[377.40631103515625]], [[376.6163330078125]], [[378.9427490234375]], [[377.01043701171875]], [[376.91949462890625]], [[378.67279052734375]], [[376.6749267578125]]]\n",
      "future element before appending x [[-0.01938651]]\n",
      "future element after appending x [ 0.0461749   0.02840412  0.3709951  -0.01938651]\n",
      "futureElements  [[371.656404, 375.06777400000004, 378.4796001, 381.8918823], [[0.004106141626834869]], [[0.5725768804550171]], [[0.21898245811462402]], [[-0.08346819877624512]], [[0.4972256124019623]], [[0.12352724373340607]], [[-0.030841946601867676]], [[0.4237416088581085]], [[0.046174898743629456]], [[0.0284041166305542]], [[0.37099510431289673]], [[-0.01938650757074356]]]\n",
      "iteration  11   complete\n",
      "(1, 1, 3) shape after preparing data in  12  iteration\n",
      "future element value after preparing data [[[ 0.02840412  0.3709951  -0.01938651]]]\n",
      "unscaled prediction  [[[376.7951354980469]], [[379.7044372558594]], [[377.8948669433594]], [[376.34698486328125]], [[379.31878662109375]], [[377.40631103515625]], [[376.6163330078125]], [[378.9427490234375]], [[377.01043701171875]], [[376.91949462890625]], [[378.67279052734375]], [[376.6749267578125]], [[377.2300720214844]]]\n",
      "future element before appending x [[0.08908911]]\n",
      "future element after appending x [ 0.02840412  0.3709951  -0.01938651  0.08908911]\n",
      "futureElements  [[371.656404, 375.06777400000004, 378.4796001, 381.8918823], [[0.004106141626834869]], [[0.5725768804550171]], [[0.21898245811462402]], [[-0.08346819877624512]], [[0.4972256124019623]], [[0.12352724373340607]], [[-0.030841946601867676]], [[0.4237416088581085]], [[0.046174898743629456]], [[0.0284041166305542]], [[0.37099510431289673]], [[-0.01938650757074356]], [[0.08908911049365997]]]\n",
      "iteration  12   complete\n",
      "(1, 1, 3) shape after preparing data in  13  iteration\n",
      "future element value after preparing data [[[ 0.3709951  -0.01938651  0.08908911]]]\n",
      "unscaled prediction  [[[376.7951354980469]], [[379.7044372558594]], [[377.8948669433594]], [[376.34698486328125]], [[379.31878662109375]], [[377.40631103515625]], [[376.6163330078125]], [[378.9427490234375]], [[377.01043701171875]], [[376.91949462890625]], [[378.67279052734375]], [[376.6749267578125]], [[377.2300720214844]], [[378.4442138671875]]]\n",
      "future element before appending x [[0.3263333]]\n",
      "future element after appending x [ 0.3709951  -0.01938651  0.08908911  0.32633331]\n",
      "futureElements  [[371.656404, 375.06777400000004, 378.4796001, 381.8918823], [[0.004106141626834869]], [[0.5725768804550171]], [[0.21898245811462402]], [[-0.08346819877624512]], [[0.4972256124019623]], [[0.12352724373340607]], [[-0.030841946601867676]], [[0.4237416088581085]], [[0.046174898743629456]], [[0.0284041166305542]], [[0.37099510431289673]], [[-0.01938650757074356]], [[0.08908911049365997]], [[0.32633331418037415]]]\n",
      "iteration  13   complete\n",
      "(1, 1, 3) shape after preparing data in  14  iteration\n",
      "future element value after preparing data [[[-0.01938651  0.08908911  0.32633331]]]\n",
      "unscaled prediction  [[[376.7951354980469]], [[379.7044372558594]], [[377.8948669433594]], [[376.34698486328125]], [[379.31878662109375]], [[377.40631103515625]], [[376.6163330078125]], [[378.9427490234375]], [[377.01043701171875]], [[376.91949462890625]], [[378.67279052734375]], [[376.6749267578125]], [[377.2300720214844]], [[378.4442138671875]], [[376.4049987792969]]]\n",
      "future element before appending x [[-0.07212759]]\n",
      "future element after appending x [-0.01938651  0.08908911  0.32633331 -0.07212759]\n",
      "futureElements  [[371.656404, 375.06777400000004, 378.4796001, 381.8918823], [[0.004106141626834869]], [[0.5725768804550171]], [[0.21898245811462402]], [[-0.08346819877624512]], [[0.4972256124019623]], [[0.12352724373340607]], [[-0.030841946601867676]], [[0.4237416088581085]], [[0.046174898743629456]], [[0.0284041166305542]], [[0.37099510431289673]], [[-0.01938650757074356]], [[0.08908911049365997]], [[0.32633331418037415]], [[-0.07212758809328079]]]\n",
      "iteration  14   complete\n",
      "prediction of 14days ahead  -0.07212758809328079  unscaled prediction  [[376.4049987792969]]  actual value  828.2281107999999\n"
     ]
    },
    {
     "name": "stderr",
     "output_type": "stream",
     "text": [
      "/Users/anusha/anaconda3/lib/python3.6/site-packages/ipykernel_launcher.py:10: FutureWarning: reshape is deprecated and will raise in a subsequent release. Please use .values.reshape(...) instead\n",
      "  # Remove the CWD from sys.path while we load stuff.\n"
     ]
    }
   ],
   "source": [
    "_14ahead,elements,unscaled_prediction = timestep_ahead(14,model,train_x.fv_cost[-4:],x)\n",
    "print (\"prediction of 14days ahead \",_14ahead,\" unscaled prediction \",unscaled_prediction[-1],\" actual value \",test_x.fv_cost.iloc[14])\n"
   ]
  },
  {
   "cell_type": "code",
   "execution_count": 76,
   "metadata": {},
   "outputs": [
    {
     "name": "stderr",
     "output_type": "stream",
     "text": [
      "/Users/anusha/anaconda3/lib/python3.6/site-packages/ipykernel_launcher.py:10: FutureWarning: reshape is deprecated and will raise in a subsequent release. Please use .values.reshape(...) instead\n",
      "  # Remove the CWD from sys.path while we load stuff.\n"
     ]
    },
    {
     "name": "stdout",
     "output_type": "stream",
     "text": [
      "shape of fe_x before for loop  (1, 1, 3)\n",
      "(1, 1, 3) shape after preparing data in  0  iteration\n",
      "future element value after preparing data [[[ 0.33324421 -0.33342245 -1.        ]]]\n",
      "unscaled prediction  [[[376.6831359863281]]]\n",
      "future element before appending x [[-0.01778766]]\n",
      "future element after appending x [ 3.75067774e+02  3.78479600e+02  3.81891882e+02 -1.77876577e-02]\n",
      "futureElements  [[371.656404, 375.06777400000004, 378.4796001, 381.8918823], [[-0.01778765767812729]]]\n",
      "iteration  0   complete\n",
      "(1, 1, 3) shape after preparing data in  1  iteration\n",
      "future element value after preparing data [[[ 3.78479600e+02  3.81891882e+02 -1.77876577e-02]]]\n",
      "unscaled prediction  [[[376.6831359863281]], [[379.7035217285156]]]\n",
      "future element before appending x [[0.5723951]]\n",
      "future element after appending x [ 3.78479600e+02  3.81891882e+02 -1.77876577e-02  5.72395086e-01]\n",
      "futureElements  [[371.656404, 375.06777400000004, 378.4796001, 381.8918823], [[-0.01778765767812729]], [[0.5723950862884521]]]\n",
      "iteration  1   complete\n",
      "(1, 1, 3) shape after preparing data in  2  iteration\n",
      "future element value after preparing data [[[ 3.81891882e+02 -1.77876577e-02  5.72395086e-01]]]\n",
      "unscaled prediction  [[[376.6831359863281]], [[379.7035217285156]], [[377.89495849609375]]]\n",
      "future element before appending x [[0.21900854]]\n",
      "future element after appending x [ 3.81891882e+02 -1.77876577e-02  5.72395086e-01  2.19008535e-01]\n",
      "futureElements  [[371.656404, 375.06777400000004, 378.4796001, 381.8918823], [[-0.01778765767812729]], [[0.5723950862884521]], [[0.21900853514671326]]]\n",
      "iteration  2   complete\n",
      "(1, 1, 3) shape after preparing data in  3  iteration\n",
      "future element value after preparing data [[[-0.01778766  0.57239509  0.21900854]]]\n",
      "unscaled prediction  [[[376.6831359863281]], [[379.7035217285156]], [[377.89495849609375]], [[376.26611328125]]]\n",
      "future element before appending x [[-0.09926312]]\n",
      "future element after appending x [-0.01778766  0.57239509  0.21900854 -0.09926312]\n",
      "futureElements  [[371.656404, 375.06777400000004, 378.4796001, 381.8918823], [[-0.01778765767812729]], [[0.5723950862884521]], [[0.21900853514671326]], [[-0.09926312416791916]]]\n",
      "iteration  3   complete\n",
      "(1, 1, 3) shape after preparing data in  4  iteration\n",
      "future element value after preparing data [[[ 0.57239509  0.21900854 -0.09926312]]]\n",
      "unscaled prediction  [[[376.6831359863281]], [[379.7035217285156]], [[377.89495849609375]], [[376.26611328125]], [[379.31866455078125]]]\n",
      "future element before appending x [[0.49719968]]\n",
      "future element after appending x [ 0.57239509  0.21900854 -0.09926312  0.49719968]\n",
      "futureElements  [[371.656404, 375.06777400000004, 378.4796001, 381.8918823], [[-0.01778765767812729]], [[0.5723950862884521]], [[0.21900853514671326]], [[-0.09926312416791916]], [[0.497199684381485]]]\n",
      "iteration  4   complete\n",
      "(1, 1, 3) shape after preparing data in  5  iteration\n",
      "future element value after preparing data [[[ 0.21900854 -0.09926312  0.49719968]]]\n",
      "unscaled prediction  [[[376.6831359863281]], [[379.7035217285156]], [[377.89495849609375]], [[376.26611328125]], [[379.31866455078125]], [[377.3958435058594]]]\n",
      "future element before appending x [[0.12148316]]\n",
      "future element after appending x [ 0.21900854 -0.09926312  0.49719968  0.12148316]\n",
      "futureElements  [[371.656404, 375.06777400000004, 378.4796001, 381.8918823], [[-0.01778765767812729]], [[0.5723950862884521]], [[0.21900853514671326]], [[-0.09926312416791916]], [[0.497199684381485]], [[0.12148316204547882]]]\n",
      "iteration  5   complete\n",
      "(1, 1, 3) shape after preparing data in  6  iteration\n",
      "future element value after preparing data [[[-0.09926312  0.49719968  0.12148316]]]\n",
      "unscaled prediction  [[[376.6831359863281]], [[379.7035217285156]], [[377.89495849609375]], [[376.26611328125]], [[379.31866455078125]], [[377.3958435058594]], [[376.5306091308594]]]\n",
      "future element before appending x [[-0.04758419]]\n",
      "future element after appending x [-0.09926312  0.49719968  0.12148316 -0.04758419]\n",
      "futureElements  [[371.656404, 375.06777400000004, 378.4796001, 381.8918823], [[-0.01778765767812729]], [[0.5723950862884521]], [[0.21900853514671326]], [[-0.09926312416791916]], [[0.497199684381485]], [[0.12148316204547882]], [[-0.04758419468998909]]]\n",
      "iteration  6   complete\n",
      "(1, 1, 3) shape after preparing data in  7  iteration\n",
      "future element value after preparing data [[[ 0.49719968  0.12148316 -0.04758419]]]\n",
      "unscaled prediction  [[[376.6831359863281]], [[379.7035217285156]], [[377.89495849609375]], [[376.26611328125]], [[379.31866455078125]], [[377.3958435058594]], [[376.5306091308594]], [[378.9433898925781]]]\n",
      "future element before appending x [[0.4238656]]\n",
      "future element after appending x [ 0.49719968  0.12148316 -0.04758419  0.42386559]\n",
      "futureElements  [[371.656404, 375.06777400000004, 378.4796001, 381.8918823], [[-0.01778765767812729]], [[0.5723950862884521]], [[0.21900853514671326]], [[-0.09926312416791916]], [[0.497199684381485]], [[0.12148316204547882]], [[-0.04758419468998909]], [[0.42386558651924133]]]\n",
      "iteration  7   complete\n",
      "(1, 1, 3) shape after preparing data in  8  iteration\n",
      "future element value after preparing data [[[ 0.12148316 -0.04758419  0.42386559]]]\n",
      "unscaled prediction  [[[376.6831359863281]], [[379.7035217285156]], [[377.89495849609375]], [[376.26611328125]], [[379.31866455078125]], [[377.3958435058594]], [[376.5306091308594]], [[378.9433898925781]], [[376.9833068847656]]]\n",
      "future element before appending x [[0.04087266]]\n",
      "future element after appending x [ 0.12148316 -0.04758419  0.42386559  0.04087266]\n",
      "futureElements  [[371.656404, 375.06777400000004, 378.4796001, 381.8918823], [[-0.01778765767812729]], [[0.5723950862884521]], [[0.21900853514671326]], [[-0.09926312416791916]], [[0.497199684381485]], [[0.12148316204547882]], [[-0.04758419468998909]], [[0.42386558651924133]], [[0.040872663259506226]]]\n",
      "iteration  8   complete\n",
      "(1, 1, 3) shape after preparing data in  9  iteration\n",
      "future element value after preparing data [[[-0.04758419  0.42386559  0.04087266]]]\n",
      "unscaled prediction  [[[376.6831359863281]], [[379.7035217285156]], [[377.89495849609375]], [[376.26611328125]], [[379.31866455078125]], [[377.3958435058594]], [[376.5306091308594]], [[378.9433898925781]], [[376.9833068847656]], [[376.845703125]]]\n",
      "future element before appending x [[0.01398548]]\n",
      "future element after appending x [-0.04758419  0.42386559  0.04087266  0.01398548]\n",
      "futureElements  [[371.656404, 375.06777400000004, 378.4796001, 381.8918823], [[-0.01778765767812729]], [[0.5723950862884521]], [[0.21900853514671326]], [[-0.09926312416791916]], [[0.497199684381485]], [[0.12148316204547882]], [[-0.04758419468998909]], [[0.42386558651924133]], [[0.040872663259506226]], [[0.013985484838485718]]]\n",
      "iteration  9   complete\n",
      "(1, 1, 3) shape after preparing data in  10  iteration\n",
      "future element value after preparing data [[[0.42386559 0.04087266 0.01398548]]]\n",
      "unscaled prediction  [[[376.6831359863281]], [[379.7035217285156]], [[377.89495849609375]], [[376.26611328125]], [[379.31866455078125]], [[377.3958435058594]], [[376.5306091308594]], [[378.9433898925781]], [[376.9833068847656]], [[376.845703125]], [[378.6791076660156]]]\n",
      "future element before appending x [[0.37222874]]\n",
      "future element after appending x [0.42386559 0.04087266 0.01398548 0.37222874]\n",
      "futureElements  [[371.656404, 375.06777400000004, 378.4796001, 381.8918823], [[-0.01778765767812729]], [[0.5723950862884521]], [[0.21900853514671326]], [[-0.09926312416791916]], [[0.497199684381485]], [[0.12148316204547882]], [[-0.04758419468998909]], [[0.42386558651924133]], [[0.040872663259506226]], [[0.013985484838485718]], [[0.372228741645813]]]\n",
      "iteration  10   complete\n",
      "(1, 1, 3) shape after preparing data in  11  iteration\n",
      "future element value after preparing data [[[0.04087266 0.01398548 0.37222874]]]\n",
      "unscaled prediction  [[[376.6831359863281]], [[379.7035217285156]], [[377.89495849609375]], [[376.26611328125]], [[379.31866455078125]], [[377.3958435058594]], [[376.5306091308594]], [[378.9433898925781]], [[376.9833068847656]], [[376.845703125]], [[378.6791076660156]], [[376.6285095214844]]]\n",
      "future element before appending x [[-0.0284608]]\n",
      "future element after appending x [ 0.04087266  0.01398548  0.37222874 -0.0284608 ]\n",
      "futureElements  [[371.656404, 375.06777400000004, 378.4796001, 381.8918823], [[-0.01778765767812729]], [[0.5723950862884521]], [[0.21900853514671326]], [[-0.09926312416791916]], [[0.497199684381485]], [[0.12148316204547882]], [[-0.04758419468998909]], [[0.42386558651924133]], [[0.040872663259506226]], [[0.013985484838485718]], [[0.372228741645813]], [[-0.028460800647735596]]]\n",
      "iteration  11   complete\n",
      "(1, 1, 3) shape after preparing data in  12  iteration\n",
      "future element value after preparing data [[[ 0.01398548  0.37222874 -0.0284608 ]]]\n",
      "unscaled prediction  [[[376.6831359863281]], [[379.7035217285156]], [[377.89495849609375]], [[376.26611328125]], [[379.31866455078125]], [[377.3958435058594]], [[376.5306091308594]], [[378.9433898925781]], [[376.9833068847656]], [[376.845703125]], [[378.6791076660156]], [[376.6285095214844]], [[377.171142578125]]]\n",
      "future element before appending x [[0.07757711]]\n",
      "future element after appending x [ 0.01398548  0.37222874 -0.0284608   0.07757711]\n",
      "futureElements  [[371.656404, 375.06777400000004, 378.4796001, 381.8918823], [[-0.01778765767812729]], [[0.5723950862884521]], [[0.21900853514671326]], [[-0.09926312416791916]], [[0.497199684381485]], [[0.12148316204547882]], [[-0.04758419468998909]], [[0.42386558651924133]], [[0.040872663259506226]], [[0.013985484838485718]], [[0.372228741645813]], [[-0.028460800647735596]], [[0.07757711410522461]]]\n",
      "iteration  12   complete\n",
      "(1, 1, 3) shape after preparing data in  13  iteration\n",
      "future element value after preparing data [[[ 0.37222874 -0.0284608   0.07757711]]]\n",
      "unscaled prediction  [[[376.6831359863281]], [[379.7035217285156]], [[377.89495849609375]], [[376.26611328125]], [[379.31866455078125]], [[377.3958435058594]], [[376.5306091308594]], [[378.9433898925781]], [[376.9833068847656]], [[376.845703125]], [[378.6791076660156]], [[376.6285095214844]], [[377.171142578125]], [[378.4486083984375]]]\n",
      "future element before appending x [[0.3271821]]\n",
      "future element after appending x [ 0.37222874 -0.0284608   0.07757711  0.32718211]\n",
      "futureElements  [[371.656404, 375.06777400000004, 378.4796001, 381.8918823], [[-0.01778765767812729]], [[0.5723950862884521]], [[0.21900853514671326]], [[-0.09926312416791916]], [[0.497199684381485]], [[0.12148316204547882]], [[-0.04758419468998909]], [[0.42386558651924133]], [[0.040872663259506226]], [[0.013985484838485718]], [[0.372228741645813]], [[-0.028460800647735596]], [[0.07757711410522461]], [[0.3271821141242981]]]\n",
      "iteration  13   complete\n",
      "(1, 1, 3) shape after preparing data in  14  iteration\n",
      "future element value after preparing data [[[-0.0284608   0.07757711  0.32718211]]]\n",
      "unscaled prediction  [[[376.6831359863281]], [[379.7035217285156]], [[377.89495849609375]], [[376.26611328125]], [[379.31866455078125]], [[377.3958435058594]], [[376.5306091308594]], [[378.9433898925781]], [[376.9833068847656]], [[376.845703125]], [[378.6791076660156]], [[376.6285095214844]], [[377.171142578125]], [[378.4486083984375]], [[376.340576171875]]]\n",
      "future element before appending x [[-0.08471584]]\n",
      "future element after appending x [-0.0284608   0.07757711  0.32718211 -0.08471584]\n",
      "futureElements  [[371.656404, 375.06777400000004, 378.4796001, 381.8918823], [[-0.01778765767812729]], [[0.5723950862884521]], [[0.21900853514671326]], [[-0.09926312416791916]], [[0.497199684381485]], [[0.12148316204547882]], [[-0.04758419468998909]], [[0.42386558651924133]], [[0.040872663259506226]], [[0.013985484838485718]], [[0.372228741645813]], [[-0.028460800647735596]], [[0.07757711410522461]], [[0.3271821141242981]], [[-0.084715835750103]]]\n",
      "iteration  14   complete\n",
      "(1, 1, 3) shape after preparing data in  15  iteration\n",
      "future element value after preparing data [[[ 0.07757711  0.32718211 -0.08471584]]]\n",
      "unscaled prediction  [[[376.6831359863281]], [[379.7035217285156]], [[377.89495849609375]], [[376.26611328125]], [[379.31866455078125]], [[377.3958435058594]], [[376.5306091308594]], [[378.9433898925781]], [[376.9833068847656]], [[376.845703125]], [[378.6791076660156]], [[376.6285095214844]], [[377.171142578125]], [[378.4486083984375]], [[376.340576171875]], [[377.4889831542969]]]\n",
      "future element before appending x [[0.13967715]]\n",
      "future element after appending x [ 0.07757711  0.32718211 -0.08471584  0.13967715]\n",
      "futureElements  [[371.656404, 375.06777400000004, 378.4796001, 381.8918823], [[-0.01778765767812729]], [[0.5723950862884521]], [[0.21900853514671326]], [[-0.09926312416791916]], [[0.497199684381485]], [[0.12148316204547882]], [[-0.04758419468998909]], [[0.42386558651924133]], [[0.040872663259506226]], [[0.013985484838485718]], [[0.372228741645813]], [[-0.028460800647735596]], [[0.07757711410522461]], [[0.3271821141242981]], [[-0.084715835750103]], [[0.13967715203762054]]]\n",
      "iteration  15   complete\n",
      "(1, 1, 3) shape after preparing data in  16  iteration\n",
      "future element value after preparing data [[[ 0.32718211 -0.08471584  0.13967715]]]\n",
      "unscaled prediction  [[[376.6831359863281]], [[379.7035217285156]], [[377.89495849609375]], [[376.26611328125]], [[379.31866455078125]], [[377.3958435058594]], [[376.5306091308594]], [[378.9433898925781]], [[376.9833068847656]], [[376.845703125]], [[378.6791076660156]], [[376.6285095214844]], [[377.171142578125]], [[378.4486083984375]], [[376.340576171875]], [[377.4889831542969]], [[378.2375183105469]]]\n",
      "future element before appending x [[0.2859404]]\n",
      "future element after appending x [ 0.32718211 -0.08471584  0.13967715  0.28594041]\n",
      "futureElements  [[371.656404, 375.06777400000004, 378.4796001, 381.8918823], [[-0.01778765767812729]], [[0.5723950862884521]], [[0.21900853514671326]], [[-0.09926312416791916]], [[0.497199684381485]], [[0.12148316204547882]], [[-0.04758419468998909]], [[0.42386558651924133]], [[0.040872663259506226]], [[0.013985484838485718]], [[0.372228741645813]], [[-0.028460800647735596]], [[0.07757711410522461]], [[0.3271821141242981]], [[-0.084715835750103]], [[0.13967715203762054]], [[0.28594040870666504]]]\n",
      "iteration  16   complete\n",
      "(1, 1, 3) shape after preparing data in  17  iteration\n",
      "future element value after preparing data [[[-0.08471584  0.13967715  0.28594041]]]\n",
      "unscaled prediction  [[[376.6831359863281]], [[379.7035217285156]], [[377.89495849609375]], [[376.26611328125]], [[379.31866455078125]], [[377.3958435058594]], [[376.5306091308594]], [[378.9433898925781]], [[376.9833068847656]], [[376.845703125]], [[378.6791076660156]], [[376.6285095214844]], [[377.171142578125]], [[378.4486083984375]], [[376.340576171875]], [[377.4889831542969]], [[378.2375183105469]], [[376.1291198730469]]]\n",
      "future element before appending x [[-0.12603894]]\n",
      "future element after appending x [-0.08471584  0.13967715  0.28594041 -0.12603894]\n",
      "futureElements  [[371.656404, 375.06777400000004, 378.4796001, 381.8918823], [[-0.01778765767812729]], [[0.5723950862884521]], [[0.21900853514671326]], [[-0.09926312416791916]], [[0.497199684381485]], [[0.12148316204547882]], [[-0.04758419468998909]], [[0.42386558651924133]], [[0.040872663259506226]], [[0.013985484838485718]], [[0.372228741645813]], [[-0.028460800647735596]], [[0.07757711410522461]], [[0.3271821141242981]], [[-0.084715835750103]], [[0.13967715203762054]], [[0.28594040870666504]], [[-0.12603893876075745]]]\n",
      "iteration  17   complete\n",
      "(1, 1, 3) shape after preparing data in  18  iteration\n",
      "future element value after preparing data [[[ 0.13967715  0.28594041 -0.12603894]]]\n",
      "unscaled prediction  [[[376.6831359863281]], [[379.7035217285156]], [[377.89495849609375]], [[376.26611328125]], [[379.31866455078125]], [[377.3958435058594]], [[376.5306091308594]], [[378.9433898925781]], [[376.9833068847656]], [[376.845703125]], [[378.6791076660156]], [[376.6285095214844]], [[377.171142578125]], [[378.4486083984375]], [[376.340576171875]], [[377.4889831542969]], [[378.2375183105469]], [[376.1291198730469]], [[377.772216796875]]]\n",
      "future element before appending x [[0.19502124]]\n",
      "future element after appending x [ 0.13967715  0.28594041 -0.12603894  0.19502124]\n",
      "futureElements  [[371.656404, 375.06777400000004, 378.4796001, 381.8918823], [[-0.01778765767812729]], [[0.5723950862884521]], [[0.21900853514671326]], [[-0.09926312416791916]], [[0.497199684381485]], [[0.12148316204547882]], [[-0.04758419468998909]], [[0.42386558651924133]], [[0.040872663259506226]], [[0.013985484838485718]], [[0.372228741645813]], [[-0.028460800647735596]], [[0.07757711410522461]], [[0.3271821141242981]], [[-0.084715835750103]], [[0.13967715203762054]], [[0.28594040870666504]], [[-0.12603893876075745]], [[0.19502124190330505]]]\n",
      "iteration  18   complete\n",
      "(1, 1, 3) shape after preparing data in  19  iteration\n",
      "future element value after preparing data [[[ 0.28594041 -0.12603894  0.19502124]]]\n",
      "unscaled prediction  [[[376.6831359863281]], [[379.7035217285156]], [[377.89495849609375]], [[376.26611328125]], [[379.31866455078125]], [[377.3958435058594]], [[376.5306091308594]], [[378.9433898925781]], [[376.9833068847656]], [[376.845703125]], [[378.6791076660156]], [[376.6285095214844]], [[377.171142578125]], [[378.4486083984375]], [[376.340576171875]], [[377.4889831542969]], [[378.2375183105469]], [[376.1291198730469]], [[377.772216796875]], [[378.00616455078125]]]\n",
      "future element before appending x [[0.24074084]]\n",
      "future element after appending x [ 0.28594041 -0.12603894  0.19502124  0.24074084]\n",
      "futureElements  [[371.656404, 375.06777400000004, 378.4796001, 381.8918823], [[-0.01778765767812729]], [[0.5723950862884521]], [[0.21900853514671326]], [[-0.09926312416791916]], [[0.497199684381485]], [[0.12148316204547882]], [[-0.04758419468998909]], [[0.42386558651924133]], [[0.040872663259506226]], [[0.013985484838485718]], [[0.372228741645813]], [[-0.028460800647735596]], [[0.07757711410522461]], [[0.3271821141242981]], [[-0.084715835750103]], [[0.13967715203762054]], [[0.28594040870666504]], [[-0.12603893876075745]], [[0.19502124190330505]], [[0.2407408356666565]]]\n",
      "iteration  19   complete\n",
      "(1, 1, 3) shape after preparing data in  20  iteration\n",
      "future element value after preparing data [[[-0.12603894  0.19502124  0.24074084]]]\n",
      "unscaled prediction  [[[376.6831359863281]], [[379.7035217285156]], [[377.89495849609375]], [[376.26611328125]], [[379.31866455078125]], [[377.3958435058594]], [[376.5306091308594]], [[378.9433898925781]], [[376.9833068847656]], [[376.845703125]], [[378.6791076660156]], [[376.6285095214844]], [[377.171142578125]], [[378.4486083984375]], [[376.340576171875]], [[377.4889831542969]], [[378.2375183105469]], [[376.1291198730469]], [[377.772216796875]], [[378.00616455078125]], [[376.00250244140625]]]\n",
      "future element before appending x [[-0.15078393]]\n",
      "future element after appending x [-0.12603894  0.19502124  0.24074084 -0.15078393]\n",
      "futureElements  [[371.656404, 375.06777400000004, 378.4796001, 381.8918823], [[-0.01778765767812729]], [[0.5723950862884521]], [[0.21900853514671326]], [[-0.09926312416791916]], [[0.497199684381485]], [[0.12148316204547882]], [[-0.04758419468998909]], [[0.42386558651924133]], [[0.040872663259506226]], [[0.013985484838485718]], [[0.372228741645813]], [[-0.028460800647735596]], [[0.07757711410522461]], [[0.3271821141242981]], [[-0.084715835750103]], [[0.13967715203762054]], [[0.28594040870666504]], [[-0.12603893876075745]], [[0.19502124190330505]], [[0.2407408356666565]], [[-0.15078392624855042]]]\n",
      "iteration  20   complete\n",
      "(1, 1, 3) shape after preparing data in  21  iteration\n",
      "future element value after preparing data [[[ 0.19502124  0.24074084 -0.15078393]]]\n",
      "unscaled prediction  [[[376.6831359863281]], [[379.7035217285156]], [[377.89495849609375]], [[376.26611328125]], [[379.31866455078125]], [[377.3958435058594]], [[376.5306091308594]], [[378.9433898925781]], [[376.9833068847656]], [[376.845703125]], [[378.6791076660156]], [[376.6285095214844]], [[377.171142578125]], [[378.4486083984375]], [[376.340576171875]], [[377.4889831542969]], [[378.2375183105469]], [[376.1291198730469]], [[377.772216796875]], [[378.00616455078125]], [[376.00250244140625]], [[378.005126953125]]]\n",
      "future element before appending x [[0.24052894]]\n",
      "future element after appending x [ 0.19502124  0.24074084 -0.15078393  0.24052894]\n",
      "futureElements  [[371.656404, 375.06777400000004, 378.4796001, 381.8918823], [[-0.01778765767812729]], [[0.5723950862884521]], [[0.21900853514671326]], [[-0.09926312416791916]], [[0.497199684381485]], [[0.12148316204547882]], [[-0.04758419468998909]], [[0.42386558651924133]], [[0.040872663259506226]], [[0.013985484838485718]], [[0.372228741645813]], [[-0.028460800647735596]], [[0.07757711410522461]], [[0.3271821141242981]], [[-0.084715835750103]], [[0.13967715203762054]], [[0.28594040870666504]], [[-0.12603893876075745]], [[0.19502124190330505]], [[0.2407408356666565]], [[-0.15078392624855042]], [[0.24052894115447998]]]\n",
      "iteration  21   complete\n",
      "(1, 1, 3) shape after preparing data in  22  iteration\n",
      "future element value after preparing data [[[ 0.24074084 -0.15078393  0.24052894]]]\n",
      "unscaled prediction  [[[376.6831359863281]], [[379.7035217285156]], [[377.89495849609375]], [[376.26611328125]], [[379.31866455078125]], [[377.3958435058594]], [[376.5306091308594]], [[378.9433898925781]], [[376.9833068847656]], [[376.845703125]], [[378.6791076660156]], [[376.6285095214844]], [[377.171142578125]], [[378.4486083984375]], [[376.340576171875]], [[377.4889831542969]], [[378.2375183105469]], [[376.1291198730469]], [[377.772216796875]], [[378.00616455078125]], [[376.00250244140625]], [[378.005126953125]], [[377.734375]]]\n",
      "future element before appending x [[0.18762964]]\n",
      "future element after appending x [ 0.24074084 -0.15078393  0.24052894  0.18762964]\n",
      "futureElements  [[371.656404, 375.06777400000004, 378.4796001, 381.8918823], [[-0.01778765767812729]], [[0.5723950862884521]], [[0.21900853514671326]], [[-0.09926312416791916]], [[0.497199684381485]], [[0.12148316204547882]], [[-0.04758419468998909]], [[0.42386558651924133]], [[0.040872663259506226]], [[0.013985484838485718]], [[0.372228741645813]], [[-0.028460800647735596]], [[0.07757711410522461]], [[0.3271821141242981]], [[-0.084715835750103]], [[0.13967715203762054]], [[0.28594040870666504]], [[-0.12603893876075745]], [[0.19502124190330505]], [[0.2407408356666565]], [[-0.15078392624855042]], [[0.24052894115447998]], [[0.18762964010238647]]]\n",
      "iteration  22   complete\n",
      "(1, 1, 3) shape after preparing data in  23  iteration\n",
      "future element value after preparing data [[[-0.15078393  0.24052894  0.18762964]]]\n",
      "unscaled prediction  [[[376.6831359863281]], [[379.7035217285156]], [[377.89495849609375]], [[376.26611328125]], [[379.31866455078125]], [[377.3958435058594]], [[376.5306091308594]], [[378.9433898925781]], [[376.9833068847656]], [[376.845703125]], [[378.6791076660156]], [[376.6285095214844]], [[377.171142578125]], [[378.4486083984375]], [[376.340576171875]], [[377.4889831542969]], [[378.2375183105469]], [[376.1291198730469]], [[377.772216796875]], [[378.00616455078125]], [[376.00250244140625]], [[378.005126953125]], [[377.734375]], [[375.9726867675781]]]\n",
      "future element before appending x [[-0.15660441]]\n",
      "future element after appending x [-0.15078393  0.24052894  0.18762964 -0.15660441]\n",
      "futureElements  [[371.656404, 375.06777400000004, 378.4796001, 381.8918823], [[-0.01778765767812729]], [[0.5723950862884521]], [[0.21900853514671326]], [[-0.09926312416791916]], [[0.497199684381485]], [[0.12148316204547882]], [[-0.04758419468998909]], [[0.42386558651924133]], [[0.040872663259506226]], [[0.013985484838485718]], [[0.372228741645813]], [[-0.028460800647735596]], [[0.07757711410522461]], [[0.3271821141242981]], [[-0.084715835750103]], [[0.13967715203762054]], [[0.28594040870666504]], [[-0.12603893876075745]], [[0.19502124190330505]], [[0.2407408356666565]], [[-0.15078392624855042]], [[0.24052894115447998]], [[0.18762964010238647]], [[-0.15660440921783447]]]\n",
      "iteration  23   complete\n",
      "(1, 1, 3) shape after preparing data in  24  iteration\n",
      "future element value after preparing data [[[ 0.24052894  0.18762964 -0.15660441]]]\n",
      "unscaled prediction  [[[376.6831359863281]], [[379.7035217285156]], [[377.89495849609375]], [[376.26611328125]], [[379.31866455078125]], [[377.3958435058594]], [[376.5306091308594]], [[378.9433898925781]], [[376.9833068847656]], [[376.845703125]], [[378.6791076660156]], [[376.6285095214844]], [[377.171142578125]], [[378.4486083984375]], [[376.340576171875]], [[377.4889831542969]], [[378.2375183105469]], [[376.1291198730469]], [[377.772216796875]], [[378.00616455078125]], [[376.00250244140625]], [[378.005126953125]], [[377.734375]], [[375.9726867675781]], [[378.1542053222656]]]\n",
      "future element before appending x [[0.2696572]]\n",
      "future element after appending x [ 0.24052894  0.18762964 -0.15660441  0.26965719]\n",
      "futureElements  [[371.656404, 375.06777400000004, 378.4796001, 381.8918823], [[-0.01778765767812729]], [[0.5723950862884521]], [[0.21900853514671326]], [[-0.09926312416791916]], [[0.497199684381485]], [[0.12148316204547882]], [[-0.04758419468998909]], [[0.42386558651924133]], [[0.040872663259506226]], [[0.013985484838485718]], [[0.372228741645813]], [[-0.028460800647735596]], [[0.07757711410522461]], [[0.3271821141242981]], [[-0.084715835750103]], [[0.13967715203762054]], [[0.28594040870666504]], [[-0.12603893876075745]], [[0.19502124190330505]], [[0.2407408356666565]], [[-0.15078392624855042]], [[0.24052894115447998]], [[0.18762964010238647]], [[-0.15660440921783447]], [[0.2696571946144104]]]\n",
      "iteration  24   complete\n",
      "(1, 1, 3) shape after preparing data in  25  iteration\n",
      "future element value after preparing data [[[ 0.18762964 -0.15660441  0.26965719]]]\n",
      "unscaled prediction  [[[376.6831359863281]], [[379.7035217285156]], [[377.89495849609375]], [[376.26611328125]], [[379.31866455078125]], [[377.3958435058594]], [[376.5306091308594]], [[378.9433898925781]], [[376.9833068847656]], [[376.845703125]], [[378.6791076660156]], [[376.6285095214844]], [[377.171142578125]], [[378.4486083984375]], [[376.340576171875]], [[377.4889831542969]], [[378.2375183105469]], [[376.1291198730469]], [[377.772216796875]], [[378.00616455078125]], [[376.00250244140625]], [[378.005126953125]], [[377.734375]], [[375.9726867675781]], [[378.1542053222656]], [[377.436279296875]]]\n",
      "future element before appending x [[0.12937897]]\n",
      "future element after appending x [ 0.18762964 -0.15660441  0.26965719  0.12937897]\n",
      "futureElements  [[371.656404, 375.06777400000004, 378.4796001, 381.8918823], [[-0.01778765767812729]], [[0.5723950862884521]], [[0.21900853514671326]], [[-0.09926312416791916]], [[0.497199684381485]], [[0.12148316204547882]], [[-0.04758419468998909]], [[0.42386558651924133]], [[0.040872663259506226]], [[0.013985484838485718]], [[0.372228741645813]], [[-0.028460800647735596]], [[0.07757711410522461]], [[0.3271821141242981]], [[-0.084715835750103]], [[0.13967715203762054]], [[0.28594040870666504]], [[-0.12603893876075745]], [[0.19502124190330505]], [[0.2407408356666565]], [[-0.15078392624855042]], [[0.24052894115447998]], [[0.18762964010238647]], [[-0.15660440921783447]], [[0.2696571946144104]], [[0.12937897443771362]]]\n",
      "iteration  25   complete\n",
      "(1, 1, 3) shape after preparing data in  26  iteration\n",
      "future element value after preparing data [[[-0.15660441  0.26965719  0.12937897]]]\n",
      "unscaled prediction  [[[376.6831359863281]], [[379.7035217285156]], [[377.89495849609375]], [[376.26611328125]], [[379.31866455078125]], [[377.3958435058594]], [[376.5306091308594]], [[378.9433898925781]], [[376.9833068847656]], [[376.845703125]], [[378.6791076660156]], [[376.6285095214844]], [[377.171142578125]], [[378.4486083984375]], [[376.340576171875]], [[377.4889831542969]], [[378.2375183105469]], [[376.1291198730469]], [[377.772216796875]], [[378.00616455078125]], [[376.00250244140625]], [[378.005126953125]], [[377.734375]], [[375.9726867675781]], [[378.1542053222656]], [[377.436279296875]], [[376.0406799316406]]]\n",
      "future element before appending x [[-0.14332101]]\n",
      "future element after appending x [-0.15660441  0.26965719  0.12937897 -0.14332101]\n",
      "futureElements  [[371.656404, 375.06777400000004, 378.4796001, 381.8918823], [[-0.01778765767812729]], [[0.5723950862884521]], [[0.21900853514671326]], [[-0.09926312416791916]], [[0.497199684381485]], [[0.12148316204547882]], [[-0.04758419468998909]], [[0.42386558651924133]], [[0.040872663259506226]], [[0.013985484838485718]], [[0.372228741645813]], [[-0.028460800647735596]], [[0.07757711410522461]], [[0.3271821141242981]], [[-0.084715835750103]], [[0.13967715203762054]], [[0.28594040870666504]], [[-0.12603893876075745]], [[0.19502124190330505]], [[0.2407408356666565]], [[-0.15078392624855042]], [[0.24052894115447998]], [[0.18762964010238647]], [[-0.15660440921783447]], [[0.2696571946144104]], [[0.12937897443771362]], [[-0.14332100749015808]]]\n",
      "iteration  26   complete\n",
      "(1, 1, 3) shape after preparing data in  27  iteration\n",
      "future element value after preparing data [[[ 0.26965719  0.12937897 -0.14332101]]]\n",
      "unscaled prediction  [[[376.6831359863281]], [[379.7035217285156]], [[377.89495849609375]], [[376.26611328125]], [[379.31866455078125]], [[377.3958435058594]], [[376.5306091308594]], [[378.9433898925781]], [[376.9833068847656]], [[376.845703125]], [[378.6791076660156]], [[376.6285095214844]], [[377.171142578125]], [[378.4486083984375]], [[376.340576171875]], [[377.4889831542969]], [[378.2375183105469]], [[376.1291198730469]], [[377.772216796875]], [[378.00616455078125]], [[376.00250244140625]], [[378.005126953125]], [[377.734375]], [[375.9726867675781]], [[378.1542053222656]], [[377.436279296875]], [[376.0406799316406]], [[378.228759765625]]]\n",
      "future element before appending x [[0.2842293]]\n",
      "future element after appending x [ 0.26965719  0.12937897 -0.14332101  0.28422931]\n",
      "futureElements  [[371.656404, 375.06777400000004, 378.4796001, 381.8918823], [[-0.01778765767812729]], [[0.5723950862884521]], [[0.21900853514671326]], [[-0.09926312416791916]], [[0.497199684381485]], [[0.12148316204547882]], [[-0.04758419468998909]], [[0.42386558651924133]], [[0.040872663259506226]], [[0.013985484838485718]], [[0.372228741645813]], [[-0.028460800647735596]], [[0.07757711410522461]], [[0.3271821141242981]], [[-0.084715835750103]], [[0.13967715203762054]], [[0.28594040870666504]], [[-0.12603893876075745]], [[0.19502124190330505]], [[0.2407408356666565]], [[-0.15078392624855042]], [[0.24052894115447998]], [[0.18762964010238647]], [[-0.15660440921783447]], [[0.2696571946144104]], [[0.12937897443771362]], [[-0.14332100749015808]], [[0.2842293083667755]]]\n",
      "iteration  27   complete\n",
      "(1, 1, 3) shape after preparing data in  28  iteration\n",
      "future element value after preparing data [[[ 0.12937897 -0.14332101  0.28422931]]]\n",
      "unscaled prediction  [[[376.6831359863281]], [[379.7035217285156]], [[377.89495849609375]], [[376.26611328125]], [[379.31866455078125]], [[377.3958435058594]], [[376.5306091308594]], [[378.9433898925781]], [[376.9833068847656]], [[376.845703125]], [[378.6791076660156]], [[376.6285095214844]], [[377.171142578125]], [[378.4486083984375]], [[376.340576171875]], [[377.4889831542969]], [[378.2375183105469]], [[376.1291198730469]], [[377.772216796875]], [[378.00616455078125]], [[376.00250244140625]], [[378.005126953125]], [[377.734375]], [[375.9726867675781]], [[378.1542053222656]], [[377.436279296875]], [[376.0406799316406]], [[378.228759765625]], [[377.1144104003906]]]\n",
      "future element before appending x [[0.06648803]]\n",
      "future element after appending x [ 0.12937897 -0.14332101  0.28422931  0.06648803]\n",
      "futureElements  [[371.656404, 375.06777400000004, 378.4796001, 381.8918823], [[-0.01778765767812729]], [[0.5723950862884521]], [[0.21900853514671326]], [[-0.09926312416791916]], [[0.497199684381485]], [[0.12148316204547882]], [[-0.04758419468998909]], [[0.42386558651924133]], [[0.040872663259506226]], [[0.013985484838485718]], [[0.372228741645813]], [[-0.028460800647735596]], [[0.07757711410522461]], [[0.3271821141242981]], [[-0.084715835750103]], [[0.13967715203762054]], [[0.28594040870666504]], [[-0.12603893876075745]], [[0.19502124190330505]], [[0.2407408356666565]], [[-0.15078392624855042]], [[0.24052894115447998]], [[0.18762964010238647]], [[-0.15660440921783447]], [[0.2696571946144104]], [[0.12937897443771362]], [[-0.14332100749015808]], [[0.2842293083667755]], [[0.06648802757263184]]]\n",
      "iteration  28   complete\n",
      "(1, 1, 3) shape after preparing data in  29  iteration\n",
      "future element value after preparing data [[[-0.14332101  0.28422931  0.06648803]]]\n",
      "unscaled prediction  [[[376.6831359863281]], [[379.7035217285156]], [[377.89495849609375]], [[376.26611328125]], [[379.31866455078125]], [[377.3958435058594]], [[376.5306091308594]], [[378.9433898925781]], [[376.9833068847656]], [[376.845703125]], [[378.6791076660156]], [[376.6285095214844]], [[377.171142578125]], [[378.4486083984375]], [[376.340576171875]], [[377.4889831542969]], [[378.2375183105469]], [[376.1291198730469]], [[377.772216796875]], [[378.00616455078125]], [[376.00250244140625]], [[378.005126953125]], [[377.734375]], [[375.9726867675781]], [[378.1542053222656]], [[377.436279296875]], [[376.0406799316406]], [[378.228759765625]], [[377.1144104003906]], [[376.2076416015625]]]\n",
      "future element before appending x [[-0.11069195]]\n",
      "future element after appending x [-0.14332101  0.28422931  0.06648803 -0.11069195]\n",
      "futureElements  [[371.656404, 375.06777400000004, 378.4796001, 381.8918823], [[-0.01778765767812729]], [[0.5723950862884521]], [[0.21900853514671326]], [[-0.09926312416791916]], [[0.497199684381485]], [[0.12148316204547882]], [[-0.04758419468998909]], [[0.42386558651924133]], [[0.040872663259506226]], [[0.013985484838485718]], [[0.372228741645813]], [[-0.028460800647735596]], [[0.07757711410522461]], [[0.3271821141242981]], [[-0.084715835750103]], [[0.13967715203762054]], [[0.28594040870666504]], [[-0.12603893876075745]], [[0.19502124190330505]], [[0.2407408356666565]], [[-0.15078392624855042]], [[0.24052894115447998]], [[0.18762964010238647]], [[-0.15660440921783447]], [[0.2696571946144104]], [[0.12937897443771362]], [[-0.14332100749015808]], [[0.2842293083667755]], [[0.06648802757263184]], [[-0.11069194972515106]]]\n",
      "iteration  29   complete\n",
      "(1, 1, 3) shape after preparing data in  30  iteration\n",
      "future element value after preparing data [[[ 0.28422931  0.06648803 -0.11069195]]]\n",
      "unscaled prediction  [[[376.6831359863281]], [[379.7035217285156]], [[377.89495849609375]], [[376.26611328125]], [[379.31866455078125]], [[377.3958435058594]], [[376.5306091308594]], [[378.9433898925781]], [[376.9833068847656]], [[376.845703125]], [[378.6791076660156]], [[376.6285095214844]], [[377.171142578125]], [[378.4486083984375]], [[376.340576171875]], [[377.4889831542969]], [[378.2375183105469]], [[376.1291198730469]], [[377.772216796875]], [[378.00616455078125]], [[376.00250244140625]], [[378.005126953125]], [[377.734375]], [[375.9726867675781]], [[378.1542053222656]], [[377.436279296875]], [[376.0406799316406]], [[378.228759765625]], [[377.1144104003906]], [[376.2076416015625]], [[378.2386474609375]]]\n",
      "future element before appending x [[0.28615955]]\n",
      "future element after appending x [ 0.28422931  0.06648803 -0.11069195  0.28615955]\n",
      "futureElements  [[371.656404, 375.06777400000004, 378.4796001, 381.8918823], [[-0.01778765767812729]], [[0.5723950862884521]], [[0.21900853514671326]], [[-0.09926312416791916]], [[0.497199684381485]], [[0.12148316204547882]], [[-0.04758419468998909]], [[0.42386558651924133]], [[0.040872663259506226]], [[0.013985484838485718]], [[0.372228741645813]], [[-0.028460800647735596]], [[0.07757711410522461]], [[0.3271821141242981]], [[-0.084715835750103]], [[0.13967715203762054]], [[0.28594040870666504]], [[-0.12603893876075745]], [[0.19502124190330505]], [[0.2407408356666565]], [[-0.15078392624855042]], [[0.24052894115447998]], [[0.18762964010238647]], [[-0.15660440921783447]], [[0.2696571946144104]], [[0.12937897443771362]], [[-0.14332100749015808]], [[0.2842293083667755]], [[0.06648802757263184]], [[-0.11069194972515106]], [[0.28615954518318176]]]\n",
      "iteration  30   complete\n",
      "(1, 1, 3) shape after preparing data in  31  iteration\n",
      "future element value after preparing data [[[ 0.06648803 -0.11069195  0.28615955]]]\n",
      "unscaled prediction  [[[376.6831359863281]], [[379.7035217285156]], [[377.89495849609375]], [[376.26611328125]], [[379.31866455078125]], [[377.3958435058594]], [[376.5306091308594]], [[378.9433898925781]], [[376.9833068847656]], [[376.845703125]], [[378.6791076660156]], [[376.6285095214844]], [[377.171142578125]], [[378.4486083984375]], [[376.340576171875]], [[377.4889831542969]], [[378.2375183105469]], [[376.1291198730469]], [[377.772216796875]], [[378.00616455078125]], [[376.00250244140625]], [[378.005126953125]], [[377.734375]], [[375.9726867675781]], [[378.1542053222656]], [[377.436279296875]], [[376.0406799316406]], [[378.228759765625]], [[377.1144104003906]], [[376.2076416015625]], [[378.2386474609375]], [[376.78094482421875]]]\n",
      "future element before appending x [[0.0013302]]\n",
      "future element after appending x [ 0.06648803 -0.11069195  0.28615955  0.0013302 ]\n",
      "futureElements  [[371.656404, 375.06777400000004, 378.4796001, 381.8918823], [[-0.01778765767812729]], [[0.5723950862884521]], [[0.21900853514671326]], [[-0.09926312416791916]], [[0.497199684381485]], [[0.12148316204547882]], [[-0.04758419468998909]], [[0.42386558651924133]], [[0.040872663259506226]], [[0.013985484838485718]], [[0.372228741645813]], [[-0.028460800647735596]], [[0.07757711410522461]], [[0.3271821141242981]], [[-0.084715835750103]], [[0.13967715203762054]], [[0.28594040870666504]], [[-0.12603893876075745]], [[0.19502124190330505]], [[0.2407408356666565]], [[-0.15078392624855042]], [[0.24052894115447998]], [[0.18762964010238647]], [[-0.15660440921783447]], [[0.2696571946144104]], [[0.12937897443771362]], [[-0.14332100749015808]], [[0.2842293083667755]], [[0.06648802757263184]], [[-0.11069194972515106]], [[0.28615954518318176]], [[0.0013302043080329895]]]\n",
      "iteration  31   complete\n",
      "(1, 1, 3) shape after preparing data in  32  iteration\n",
      "future element value after preparing data [[[-0.11069195  0.28615955  0.0013302 ]]]\n",
      "unscaled prediction  [[[376.6831359863281]], [[379.7035217285156]], [[377.89495849609375]], [[376.26611328125]], [[379.31866455078125]], [[377.3958435058594]], [[376.5306091308594]], [[378.9433898925781]], [[376.9833068847656]], [[376.845703125]], [[378.6791076660156]], [[376.6285095214844]], [[377.171142578125]], [[378.4486083984375]], [[376.340576171875]], [[377.4889831542969]], [[378.2375183105469]], [[376.1291198730469]], [[377.772216796875]], [[378.00616455078125]], [[376.00250244140625]], [[378.005126953125]], [[377.734375]], [[375.9726867675781]], [[378.1542053222656]], [[377.436279296875]], [[376.0406799316406]], [[378.228759765625]], [[377.1144104003906]], [[376.2076416015625]], [[378.2386474609375]], [[376.78094482421875]], [[376.4776306152344]]]\n",
      "future element before appending x [[-0.05793796]]\n",
      "future element after appending x [-0.11069195  0.28615955  0.0013302  -0.05793796]\n",
      "futureElements  [[371.656404, 375.06777400000004, 378.4796001, 381.8918823], [[-0.01778765767812729]], [[0.5723950862884521]], [[0.21900853514671326]], [[-0.09926312416791916]], [[0.497199684381485]], [[0.12148316204547882]], [[-0.04758419468998909]], [[0.42386558651924133]], [[0.040872663259506226]], [[0.013985484838485718]], [[0.372228741645813]], [[-0.028460800647735596]], [[0.07757711410522461]], [[0.3271821141242981]], [[-0.084715835750103]], [[0.13967715203762054]], [[0.28594040870666504]], [[-0.12603893876075745]], [[0.19502124190330505]], [[0.2407408356666565]], [[-0.15078392624855042]], [[0.24052894115447998]], [[0.18762964010238647]], [[-0.15660440921783447]], [[0.2696571946144104]], [[0.12937897443771362]], [[-0.14332100749015808]], [[0.2842293083667755]], [[0.06648802757263184]], [[-0.11069194972515106]], [[0.28615954518318176]], [[0.0013302043080329895]], [[-0.05793795734643936]]]\n",
      "iteration  32   complete\n",
      "(1, 1, 3) shape after preparing data in  33  iteration\n",
      "future element value after preparing data [[[ 0.28615955  0.0013302  -0.05793796]]]\n",
      "unscaled prediction  [[[376.6831359863281]], [[379.7035217285156]], [[377.89495849609375]], [[376.26611328125]], [[379.31866455078125]], [[377.3958435058594]], [[376.5306091308594]], [[378.9433898925781]], [[376.9833068847656]], [[376.845703125]], [[378.6791076660156]], [[376.6285095214844]], [[377.171142578125]], [[378.4486083984375]], [[376.340576171875]], [[377.4889831542969]], [[378.2375183105469]], [[376.1291198730469]], [[377.772216796875]], [[378.00616455078125]], [[376.00250244140625]], [[378.005126953125]], [[377.734375]], [[375.9726867675781]], [[378.1542053222656]], [[377.436279296875]], [[376.0406799316406]], [[378.228759765625]], [[377.1144104003906]], [[376.2076416015625]], [[378.2386474609375]], [[376.78094482421875]], [[376.4776306152344]], [[378.1941833496094]]]\n",
      "future element before appending x [[0.27747604]]\n",
      "future element after appending x [ 0.28615955  0.0013302  -0.05793796  0.27747604]\n",
      "futureElements  [[371.656404, 375.06777400000004, 378.4796001, 381.8918823], [[-0.01778765767812729]], [[0.5723950862884521]], [[0.21900853514671326]], [[-0.09926312416791916]], [[0.497199684381485]], [[0.12148316204547882]], [[-0.04758419468998909]], [[0.42386558651924133]], [[0.040872663259506226]], [[0.013985484838485718]], [[0.372228741645813]], [[-0.028460800647735596]], [[0.07757711410522461]], [[0.3271821141242981]], [[-0.084715835750103]], [[0.13967715203762054]], [[0.28594040870666504]], [[-0.12603893876075745]], [[0.19502124190330505]], [[0.2407408356666565]], [[-0.15078392624855042]], [[0.24052894115447998]], [[0.18762964010238647]], [[-0.15660440921783447]], [[0.2696571946144104]], [[0.12937897443771362]], [[-0.14332100749015808]], [[0.2842293083667755]], [[0.06648802757263184]], [[-0.11069194972515106]], [[0.28615954518318176]], [[0.0013302043080329895]], [[-0.05793795734643936]], [[0.277476042509079]]]\n",
      "iteration  33   complete\n",
      "(1, 1, 3) shape after preparing data in  34  iteration\n",
      "future element value after preparing data [[[ 0.0013302  -0.05793796  0.27747604]]]\n",
      "unscaled prediction  [[[376.6831359863281]], [[379.7035217285156]], [[377.89495849609375]], [[376.26611328125]], [[379.31866455078125]], [[377.3958435058594]], [[376.5306091308594]], [[378.9433898925781]], [[376.9833068847656]], [[376.845703125]], [[378.6791076660156]], [[376.6285095214844]], [[377.171142578125]], [[378.4486083984375]], [[376.340576171875]], [[377.4889831542969]], [[378.2375183105469]], [[376.1291198730469]], [[377.772216796875]], [[378.00616455078125]], [[376.00250244140625]], [[378.005126953125]], [[377.734375]], [[375.9726867675781]], [[378.1542053222656]], [[377.436279296875]], [[376.0406799316406]], [[378.228759765625]], [[377.1144104003906]], [[376.2076416015625]], [[378.2386474609375]], [[376.78094482421875]], [[376.4776306152344]], [[378.1941833496094]], [[376.47259521484375]]]\n",
      "future element before appending x [[-0.05892516]]\n",
      "future element after appending x [ 0.0013302  -0.05793796  0.27747604 -0.05892516]\n",
      "futureElements  [[371.656404, 375.06777400000004, 378.4796001, 381.8918823], [[-0.01778765767812729]], [[0.5723950862884521]], [[0.21900853514671326]], [[-0.09926312416791916]], [[0.497199684381485]], [[0.12148316204547882]], [[-0.04758419468998909]], [[0.42386558651924133]], [[0.040872663259506226]], [[0.013985484838485718]], [[0.372228741645813]], [[-0.028460800647735596]], [[0.07757711410522461]], [[0.3271821141242981]], [[-0.084715835750103]], [[0.13967715203762054]], [[0.28594040870666504]], [[-0.12603893876075745]], [[0.19502124190330505]], [[0.2407408356666565]], [[-0.15078392624855042]], [[0.24052894115447998]], [[0.18762964010238647]], [[-0.15660440921783447]], [[0.2696571946144104]], [[0.12937897443771362]], [[-0.14332100749015808]], [[0.2842293083667755]], [[0.06648802757263184]], [[-0.11069194972515106]], [[0.28615954518318176]], [[0.0013302043080329895]], [[-0.05793795734643936]], [[0.277476042509079]], [[-0.05892515555024147]]]\n",
      "iteration  34   complete\n",
      "(1, 1, 3) shape after preparing data in  35  iteration\n",
      "future element value after preparing data [[[-0.05793796  0.27747604 -0.05892516]]]\n",
      "unscaled prediction  [[[376.6831359863281]], [[379.7035217285156]], [[377.89495849609375]], [[376.26611328125]], [[379.31866455078125]], [[377.3958435058594]], [[376.5306091308594]], [[378.9433898925781]], [[376.9833068847656]], [[376.845703125]], [[378.6791076660156]], [[376.6285095214844]], [[377.171142578125]], [[378.4486083984375]], [[376.340576171875]], [[377.4889831542969]], [[378.2375183105469]], [[376.1291198730469]], [[377.772216796875]], [[378.00616455078125]], [[376.00250244140625]], [[378.005126953125]], [[377.734375]], [[375.9726867675781]], [[378.1542053222656]], [[377.436279296875]], [[376.0406799316406]], [[378.228759765625]], [[377.1144104003906]], [[376.2076416015625]], [[378.2386474609375]], [[376.78094482421875]], [[376.4776306152344]], [[378.1941833496094]], [[376.47259521484375]], [[376.8399963378906]]]\n",
      "future element before appending x [[0.01287271]]\n",
      "future element after appending x [-0.05793796  0.27747604 -0.05892516  0.01287271]\n",
      "futureElements  [[371.656404, 375.06777400000004, 378.4796001, 381.8918823], [[-0.01778765767812729]], [[0.5723950862884521]], [[0.21900853514671326]], [[-0.09926312416791916]], [[0.497199684381485]], [[0.12148316204547882]], [[-0.04758419468998909]], [[0.42386558651924133]], [[0.040872663259506226]], [[0.013985484838485718]], [[0.372228741645813]], [[-0.028460800647735596]], [[0.07757711410522461]], [[0.3271821141242981]], [[-0.084715835750103]], [[0.13967715203762054]], [[0.28594040870666504]], [[-0.12603893876075745]], [[0.19502124190330505]], [[0.2407408356666565]], [[-0.15078392624855042]], [[0.24052894115447998]], [[0.18762964010238647]], [[-0.15660440921783447]], [[0.2696571946144104]], [[0.12937897443771362]], [[-0.14332100749015808]], [[0.2842293083667755]], [[0.06648802757263184]], [[-0.11069194972515106]], [[0.28615954518318176]], [[0.0013302043080329895]], [[-0.05793795734643936]], [[0.277476042509079]], [[-0.05892515555024147]], [[0.012872710824012756]]]\n",
      "iteration  35   complete\n",
      "(1, 1, 3) shape after preparing data in  36  iteration\n",
      "future element value after preparing data [[[ 0.27747604 -0.05892516  0.01287271]]]\n",
      "unscaled prediction  [[[376.6831359863281]], [[379.7035217285156]], [[377.89495849609375]], [[376.26611328125]], [[379.31866455078125]], [[377.3958435058594]], [[376.5306091308594]], [[378.9433898925781]], [[376.9833068847656]], [[376.845703125]], [[378.6791076660156]], [[376.6285095214844]], [[377.171142578125]], [[378.4486083984375]], [[376.340576171875]], [[377.4889831542969]], [[378.2375183105469]], [[376.1291198730469]], [[377.772216796875]], [[378.00616455078125]], [[376.00250244140625]], [[378.005126953125]], [[377.734375]], [[375.9726867675781]], [[378.1542053222656]], [[377.436279296875]], [[376.0406799316406]], [[378.228759765625]], [[377.1144104003906]], [[376.2076416015625]], [[378.2386474609375]], [[376.78094482421875]], [[376.4776306152344]], [[378.1941833496094]], [[376.47259521484375]], [[376.8399963378906]], [[378.1158142089844]]]\n",
      "future element before appending x [[0.26215798]]\n",
      "future element after appending x [ 0.27747604 -0.05892516  0.01287271  0.26215798]\n",
      "futureElements  [[371.656404, 375.06777400000004, 378.4796001, 381.8918823], [[-0.01778765767812729]], [[0.5723950862884521]], [[0.21900853514671326]], [[-0.09926312416791916]], [[0.497199684381485]], [[0.12148316204547882]], [[-0.04758419468998909]], [[0.42386558651924133]], [[0.040872663259506226]], [[0.013985484838485718]], [[0.372228741645813]], [[-0.028460800647735596]], [[0.07757711410522461]], [[0.3271821141242981]], [[-0.084715835750103]], [[0.13967715203762054]], [[0.28594040870666504]], [[-0.12603893876075745]], [[0.19502124190330505]], [[0.2407408356666565]], [[-0.15078392624855042]], [[0.24052894115447998]], [[0.18762964010238647]], [[-0.15660440921783447]], [[0.2696571946144104]], [[0.12937897443771362]], [[-0.14332100749015808]], [[0.2842293083667755]], [[0.06648802757263184]], [[-0.11069194972515106]], [[0.28615954518318176]], [[0.0013302043080329895]], [[-0.05793795734643936]], [[0.277476042509079]], [[-0.05892515555024147]], [[0.012872710824012756]], [[0.26215797662734985]]]\n",
      "iteration  36   complete\n",
      "(1, 1, 3) shape after preparing data in  37  iteration\n",
      "future element value after preparing data [[[-0.05892516  0.01287271  0.26215798]]]\n",
      "unscaled prediction  [[[376.6831359863281]], [[379.7035217285156]], [[377.89495849609375]], [[376.26611328125]], [[379.31866455078125]], [[377.3958435058594]], [[376.5306091308594]], [[378.9433898925781]], [[376.9833068847656]], [[376.845703125]], [[378.6791076660156]], [[376.6285095214844]], [[377.171142578125]], [[378.4486083984375]], [[376.340576171875]], [[377.4889831542969]], [[378.2375183105469]], [[376.1291198730469]], [[377.772216796875]], [[378.00616455078125]], [[376.00250244140625]], [[378.005126953125]], [[377.734375]], [[375.9726867675781]], [[378.1542053222656]], [[377.436279296875]], [[376.0406799316406]], [[378.228759765625]], [[377.1144104003906]], [[376.2076416015625]], [[378.2386474609375]], [[376.78094482421875]], [[376.4776306152344]], [[378.1941833496094]], [[376.47259521484375]], [[376.8399963378906]], [[378.1158142089844]], [[376.207275390625]]]\n",
      "future element before appending x [[-0.1107676]]\n",
      "future element after appending x [-0.05892516  0.01287271  0.26215798 -0.1107676 ]\n",
      "futureElements  [[371.656404, 375.06777400000004, 378.4796001, 381.8918823], [[-0.01778765767812729]], [[0.5723950862884521]], [[0.21900853514671326]], [[-0.09926312416791916]], [[0.497199684381485]], [[0.12148316204547882]], [[-0.04758419468998909]], [[0.42386558651924133]], [[0.040872663259506226]], [[0.013985484838485718]], [[0.372228741645813]], [[-0.028460800647735596]], [[0.07757711410522461]], [[0.3271821141242981]], [[-0.084715835750103]], [[0.13967715203762054]], [[0.28594040870666504]], [[-0.12603893876075745]], [[0.19502124190330505]], [[0.2407408356666565]], [[-0.15078392624855042]], [[0.24052894115447998]], [[0.18762964010238647]], [[-0.15660440921783447]], [[0.2696571946144104]], [[0.12937897443771362]], [[-0.14332100749015808]], [[0.2842293083667755]], [[0.06648802757263184]], [[-0.11069194972515106]], [[0.28615954518318176]], [[0.0013302043080329895]], [[-0.05793795734643936]], [[0.277476042509079]], [[-0.05892515555024147]], [[0.012872710824012756]], [[0.26215797662734985]], [[-0.11076760292053223]]]\n",
      "iteration  37   complete\n",
      "(1, 1, 3) shape after preparing data in  38  iteration\n",
      "future element value after preparing data [[[ 0.01287271  0.26215798 -0.1107676 ]]]\n",
      "unscaled prediction  [[[376.6831359863281]], [[379.7035217285156]], [[377.89495849609375]], [[376.26611328125]], [[379.31866455078125]], [[377.3958435058594]], [[376.5306091308594]], [[378.9433898925781]], [[376.9833068847656]], [[376.845703125]], [[378.6791076660156]], [[376.6285095214844]], [[377.171142578125]], [[378.4486083984375]], [[376.340576171875]], [[377.4889831542969]], [[378.2375183105469]], [[376.1291198730469]], [[377.772216796875]], [[378.00616455078125]], [[376.00250244140625]], [[378.005126953125]], [[377.734375]], [[375.9726867675781]], [[378.1542053222656]], [[377.436279296875]], [[376.0406799316406]], [[378.228759765625]], [[377.1144104003906]], [[376.2076416015625]], [[378.2386474609375]], [[376.78094482421875]], [[376.4776306152344]], [[378.1941833496094]], [[376.47259521484375]], [[376.8399963378906]], [[378.1158142089844]], [[376.207275390625]], [[377.2073059082031]]]\n",
      "future element before appending x [[0.08463866]]\n",
      "future element after appending x [ 0.01287271  0.26215798 -0.1107676   0.08463866]\n",
      "futureElements  [[371.656404, 375.06777400000004, 378.4796001, 381.8918823], [[-0.01778765767812729]], [[0.5723950862884521]], [[0.21900853514671326]], [[-0.09926312416791916]], [[0.497199684381485]], [[0.12148316204547882]], [[-0.04758419468998909]], [[0.42386558651924133]], [[0.040872663259506226]], [[0.013985484838485718]], [[0.372228741645813]], [[-0.028460800647735596]], [[0.07757711410522461]], [[0.3271821141242981]], [[-0.084715835750103]], [[0.13967715203762054]], [[0.28594040870666504]], [[-0.12603893876075745]], [[0.19502124190330505]], [[0.2407408356666565]], [[-0.15078392624855042]], [[0.24052894115447998]], [[0.18762964010238647]], [[-0.15660440921783447]], [[0.2696571946144104]], [[0.12937897443771362]], [[-0.14332100749015808]], [[0.2842293083667755]], [[0.06648802757263184]], [[-0.11069194972515106]], [[0.28615954518318176]], [[0.0013302043080329895]], [[-0.05793795734643936]], [[0.277476042509079]], [[-0.05892515555024147]], [[0.012872710824012756]], [[0.26215797662734985]], [[-0.11076760292053223]], [[0.08463865518569946]]]\n",
      "iteration  38   complete\n",
      "(1, 1, 3) shape after preparing data in  39  iteration\n",
      "future element value after preparing data [[[ 0.26215798 -0.1107676   0.08463866]]]\n",
      "unscaled prediction  [[[376.6831359863281]], [[379.7035217285156]], [[377.89495849609375]], [[376.26611328125]], [[379.31866455078125]], [[377.3958435058594]], [[376.5306091308594]], [[378.9433898925781]], [[376.9833068847656]], [[376.845703125]], [[378.6791076660156]], [[376.6285095214844]], [[377.171142578125]], [[378.4486083984375]], [[376.340576171875]], [[377.4889831542969]], [[378.2375183105469]], [[376.1291198730469]], [[377.772216796875]], [[378.00616455078125]], [[376.00250244140625]], [[378.005126953125]], [[377.734375]], [[375.9726867675781]], [[378.1542053222656]], [[377.436279296875]], [[376.0406799316406]], [[378.228759765625]], [[377.1144104003906]], [[376.2076416015625]], [[378.2386474609375]], [[376.78094482421875]], [[376.4776306152344]], [[378.1941833496094]], [[376.47259521484375]], [[376.8399963378906]], [[378.1158142089844]], [[376.207275390625]], [[377.2073059082031]], [[377.9987487792969]]]\n",
      "future element before appending x [[0.23928523]]\n",
      "future element after appending x [ 0.26215798 -0.1107676   0.08463866  0.23928523]\n",
      "futureElements  [[371.656404, 375.06777400000004, 378.4796001, 381.8918823], [[-0.01778765767812729]], [[0.5723950862884521]], [[0.21900853514671326]], [[-0.09926312416791916]], [[0.497199684381485]], [[0.12148316204547882]], [[-0.04758419468998909]], [[0.42386558651924133]], [[0.040872663259506226]], [[0.013985484838485718]], [[0.372228741645813]], [[-0.028460800647735596]], [[0.07757711410522461]], [[0.3271821141242981]], [[-0.084715835750103]], [[0.13967715203762054]], [[0.28594040870666504]], [[-0.12603893876075745]], [[0.19502124190330505]], [[0.2407408356666565]], [[-0.15078392624855042]], [[0.24052894115447998]], [[0.18762964010238647]], [[-0.15660440921783447]], [[0.2696571946144104]], [[0.12937897443771362]], [[-0.14332100749015808]], [[0.2842293083667755]], [[0.06648802757263184]], [[-0.11069194972515106]], [[0.28615954518318176]], [[0.0013302043080329895]], [[-0.05793795734643936]], [[0.277476042509079]], [[-0.05892515555024147]], [[0.012872710824012756]], [[0.26215797662734985]], [[-0.11076760292053223]], [[0.08463865518569946]], [[0.23928523063659668]]]\n",
      "iteration  39   complete\n",
      "(1, 1, 3) shape after preparing data in  40  iteration\n",
      "future element value after preparing data [[[-0.1107676   0.08463866  0.23928523]]]\n",
      "unscaled prediction  [[[376.6831359863281]], [[379.7035217285156]], [[377.89495849609375]], [[376.26611328125]], [[379.31866455078125]], [[377.3958435058594]], [[376.5306091308594]], [[378.9433898925781]], [[376.9833068847656]], [[376.845703125]], [[378.6791076660156]], [[376.6285095214844]], [[377.171142578125]], [[378.4486083984375]], [[376.340576171875]], [[377.4889831542969]], [[378.2375183105469]], [[376.1291198730469]], [[377.772216796875]], [[378.00616455078125]], [[376.00250244140625]], [[378.005126953125]], [[377.734375]], [[375.9726867675781]], [[378.1542053222656]], [[377.436279296875]], [[376.0406799316406]], [[378.228759765625]], [[377.1144104003906]], [[376.2076416015625]], [[378.2386474609375]], [[376.78094482421875]], [[376.4776306152344]], [[378.1941833496094]], [[376.47259521484375]], [[376.8399963378906]], [[378.1158142089844]], [[376.207275390625]], [[377.2073059082031]], [[377.9987487792969]], [[376.00634765625]]]\n",
      "future element before appending x [[-0.15002799]]\n",
      "future element after appending x [-0.1107676   0.08463866  0.23928523 -0.15002799]\n",
      "futureElements  [[371.656404, 375.06777400000004, 378.4796001, 381.8918823], [[-0.01778765767812729]], [[0.5723950862884521]], [[0.21900853514671326]], [[-0.09926312416791916]], [[0.497199684381485]], [[0.12148316204547882]], [[-0.04758419468998909]], [[0.42386558651924133]], [[0.040872663259506226]], [[0.013985484838485718]], [[0.372228741645813]], [[-0.028460800647735596]], [[0.07757711410522461]], [[0.3271821141242981]], [[-0.084715835750103]], [[0.13967715203762054]], [[0.28594040870666504]], [[-0.12603893876075745]], [[0.19502124190330505]], [[0.2407408356666565]], [[-0.15078392624855042]], [[0.24052894115447998]], [[0.18762964010238647]], [[-0.15660440921783447]], [[0.2696571946144104]], [[0.12937897443771362]], [[-0.14332100749015808]], [[0.2842293083667755]], [[0.06648802757263184]], [[-0.11069194972515106]], [[0.28615954518318176]], [[0.0013302043080329895]], [[-0.05793795734643936]], [[0.277476042509079]], [[-0.05892515555024147]], [[0.012872710824012756]], [[0.26215797662734985]], [[-0.11076760292053223]], [[0.08463865518569946]], [[0.23928523063659668]], [[-0.15002799034118652]]]\n",
      "iteration  40   complete\n",
      "(1, 1, 3) shape after preparing data in  41  iteration\n",
      "future element value after preparing data [[[ 0.08463866  0.23928523 -0.15002799]]]\n"
     ]
    },
    {
     "name": "stdout",
     "output_type": "stream",
     "text": [
      "unscaled prediction  [[[376.6831359863281]], [[379.7035217285156]], [[377.89495849609375]], [[376.26611328125]], [[379.31866455078125]], [[377.3958435058594]], [[376.5306091308594]], [[378.9433898925781]], [[376.9833068847656]], [[376.845703125]], [[378.6791076660156]], [[376.6285095214844]], [[377.171142578125]], [[378.4486083984375]], [[376.340576171875]], [[377.4889831542969]], [[378.2375183105469]], [[376.1291198730469]], [[377.772216796875]], [[378.00616455078125]], [[376.00250244140625]], [[378.005126953125]], [[377.734375]], [[375.9726867675781]], [[378.1542053222656]], [[377.436279296875]], [[376.0406799316406]], [[378.228759765625]], [[377.1144104003906]], [[376.2076416015625]], [[378.2386474609375]], [[376.78094482421875]], [[376.4776306152344]], [[378.1941833496094]], [[376.47259521484375]], [[376.8399963378906]], [[378.1158142089844]], [[376.207275390625]], [[377.2073059082031]], [[377.9987487792969]], [[376.00634765625]], [[377.5557861328125]]]\n",
      "future element before appending x [[0.15273029]]\n",
      "future element after appending x [ 0.08463866  0.23928523 -0.15002799  0.15273029]\n",
      "futureElements  [[371.656404, 375.06777400000004, 378.4796001, 381.8918823], [[-0.01778765767812729]], [[0.5723950862884521]], [[0.21900853514671326]], [[-0.09926312416791916]], [[0.497199684381485]], [[0.12148316204547882]], [[-0.04758419468998909]], [[0.42386558651924133]], [[0.040872663259506226]], [[0.013985484838485718]], [[0.372228741645813]], [[-0.028460800647735596]], [[0.07757711410522461]], [[0.3271821141242981]], [[-0.084715835750103]], [[0.13967715203762054]], [[0.28594040870666504]], [[-0.12603893876075745]], [[0.19502124190330505]], [[0.2407408356666565]], [[-0.15078392624855042]], [[0.24052894115447998]], [[0.18762964010238647]], [[-0.15660440921783447]], [[0.2696571946144104]], [[0.12937897443771362]], [[-0.14332100749015808]], [[0.2842293083667755]], [[0.06648802757263184]], [[-0.11069194972515106]], [[0.28615954518318176]], [[0.0013302043080329895]], [[-0.05793795734643936]], [[0.277476042509079]], [[-0.05892515555024147]], [[0.012872710824012756]], [[0.26215797662734985]], [[-0.11076760292053223]], [[0.08463865518569946]], [[0.23928523063659668]], [[-0.15002799034118652]], [[0.1527302861213684]]]\n",
      "iteration  41   complete\n",
      "(1, 1, 3) shape after preparing data in  42  iteration\n",
      "future element value after preparing data [[[ 0.23928523 -0.15002799  0.15273029]]]\n",
      "unscaled prediction  [[[376.6831359863281]], [[379.7035217285156]], [[377.89495849609375]], [[376.26611328125]], [[379.31866455078125]], [[377.3958435058594]], [[376.5306091308594]], [[378.9433898925781]], [[376.9833068847656]], [[376.845703125]], [[378.6791076660156]], [[376.6285095214844]], [[377.171142578125]], [[378.4486083984375]], [[376.340576171875]], [[377.4889831542969]], [[378.2375183105469]], [[376.1291198730469]], [[377.772216796875]], [[378.00616455078125]], [[376.00250244140625]], [[378.005126953125]], [[377.734375]], [[375.9726867675781]], [[378.1542053222656]], [[377.436279296875]], [[376.0406799316406]], [[378.228759765625]], [[377.1144104003906]], [[376.2076416015625]], [[378.2386474609375]], [[376.78094482421875]], [[376.4776306152344]], [[378.1941833496094]], [[376.47259521484375]], [[376.8399963378906]], [[378.1158142089844]], [[376.207275390625]], [[377.2073059082031]], [[377.9987487792969]], [[376.00634765625]], [[377.5557861328125]], [[377.80328369140625]]]\n",
      "future element before appending x [[0.20109847]]\n",
      "future element after appending x [ 0.23928523 -0.15002799  0.15273029  0.20109847]\n",
      "futureElements  [[371.656404, 375.06777400000004, 378.4796001, 381.8918823], [[-0.01778765767812729]], [[0.5723950862884521]], [[0.21900853514671326]], [[-0.09926312416791916]], [[0.497199684381485]], [[0.12148316204547882]], [[-0.04758419468998909]], [[0.42386558651924133]], [[0.040872663259506226]], [[0.013985484838485718]], [[0.372228741645813]], [[-0.028460800647735596]], [[0.07757711410522461]], [[0.3271821141242981]], [[-0.084715835750103]], [[0.13967715203762054]], [[0.28594040870666504]], [[-0.12603893876075745]], [[0.19502124190330505]], [[0.2407408356666565]], [[-0.15078392624855042]], [[0.24052894115447998]], [[0.18762964010238647]], [[-0.15660440921783447]], [[0.2696571946144104]], [[0.12937897443771362]], [[-0.14332100749015808]], [[0.2842293083667755]], [[0.06648802757263184]], [[-0.11069194972515106]], [[0.28615954518318176]], [[0.0013302043080329895]], [[-0.05793795734643936]], [[0.277476042509079]], [[-0.05892515555024147]], [[0.012872710824012756]], [[0.26215797662734985]], [[-0.11076760292053223]], [[0.08463865518569946]], [[0.23928523063659668]], [[-0.15002799034118652]], [[0.1527302861213684]], [[0.2010984718799591]]]\n",
      "iteration  42   complete\n",
      "prediction of 21days ahead  0.2010984718799591  unscaled prediction  [[377.80328369140625]]  actual value  449.37233080000004\n"
     ]
    }
   ],
   "source": [
    "_21ahead,elements,unscaled_prediction = timestep_ahead(42,model,train_x.fv_cost[-4:],x)\n",
    "print (\"prediction of 21days ahead \",_21ahead,\" unscaled prediction \",\n",
    "       unscaled_prediction[-1],\" actual value \",test_x.fv_cost.iloc[42])"
   ]
  },
  {
   "cell_type": "code",
   "execution_count": 36,
   "metadata": {},
   "outputs": [
    {
     "data": {
      "text/plain": [
       "[371.656404,\n",
       " 375.06777400000004,\n",
       " 378.4796001,\n",
       " 381.8918823,\n",
       " -0.06496140360832214,\n",
       " 0.7212505340576172,\n",
       " 0.6659982204437256,\n",
       " -0.34120362997055054,\n",
       " -0.6369178295135498,\n",
       " 0.4477390944957733,\n",
       " 0.6127439737319946,\n",
       " 0.5911823511123657,\n",
       " -0.5209013819694519,\n",
       " -0.66240394115448,\n",
       " -0.686203122138977,\n",
       " 0.21877828240394592,\n",
       " 0.40478774905204773,\n",
       " 0.6499253511428833,\n",
       " -0.6026910543441772,\n",
       " -0.5530111789703369,\n",
       " -0.6654351949691772,\n",
       " -0.6978175640106201,\n",
       " -0.24336612224578857,\n",
       " 0.2983408272266388,\n",
       " 0.6923211812973022,\n",
       " 0.6095691919326782,\n",
       " -0.6121375560760498,\n",
       " -0.6669450998306274,\n",
       " -0.6886459589004517,\n",
       " -0.7030854225158691,\n",
       " -0.6590583324432373,\n",
       " 0.2039482593536377]"
      ]
     },
     "execution_count": 36,
     "metadata": {},
     "output_type": "execute_result"
    }
   ],
   "source": [
    "daily_pred =[np.array(arr).tolist() for arr in elements]\n",
    "daily_pred\n",
    "def flatten(l): return flatten(l[0]) + (flatten(l[1:]) if len(l) > 1 else []) if type(l) is list else [l]\n",
    "pred_list = flatten(daily_pred)\n",
    "\n",
    "import csv \n",
    "myFile = open('daily_predictions_3months.csv', 'w')  \n",
    "with myFile:  \n",
    "   writer = csv.writer(myFile)\n",
    "   writer.writerow(pred_list)\n",
    "\n",
    "pred_list"
   ]
  },
  {
   "cell_type": "code",
   "execution_count": 37,
   "metadata": {},
   "outputs": [
    {
     "data": {
      "text/plain": [
       "[371.656404,\n",
       " -0.34120362997055054,\n",
       " -0.686203122138977,\n",
       " -0.6978175640106201,\n",
       " -0.6886459589004517]"
      ]
     },
     "execution_count": 37,
     "metadata": {},
     "output_type": "execute_result"
    }
   ],
   "source": [
    "#find every 7th element into a list\n",
    "week_end_pred = pred_list[0::7]\n",
    "week_end_pred"
   ]
  },
  {
   "cell_type": "code",
   "execution_count": 38,
   "metadata": {},
   "outputs": [
    {
     "data": {
      "text/plain": [
       "[215.48827825012762,\n",
       " -0.07282305189541408,\n",
       " -0.17626416683197021,\n",
       " -0.08857644881520953,\n",
       " -0.26383449350084576]"
      ]
     },
     "execution_count": 38,
     "metadata": {},
     "output_type": "execute_result"
    }
   ],
   "source": [
    "# weekly average for 3 months\n",
    "weekly_avg_pred = [(sum(pred_list[x:x+7]))/7 for x in range(0, len(pred_list), 7)]\n",
    "weekly_avg_pred"
   ]
  },
  {
   "cell_type": "markdown",
   "metadata": {},
   "source": [
    "# find average for every 7 days\n",
    "import itertools\n",
    "n=7 #7days\n",
    "list_week = list(itertools.chain.from_iterable([i]*7 for i in [sum(pred_list[i:i+7])//7 for i in range(0,len(pred_list),7)]))\n",
    "list_week\n"
   ]
  },
  {
   "cell_type": "markdown",
   "metadata": {},
   "source": [
    "#for i in range(7):\n",
    "futureElement = model.predict(futureElement,batch_size=1)\n",
    "futureElements.append(futureElement)\n",
    "futureElement = np.append(futureElement, futureElements[0][0][0][:3])\n",
    "x=futureElement[:3]\n",
    "print(x)\n",
    "print(\"iteration 0 complete\")\n",
    "#    #return futureElements\n",
    "print(futureElement)\n",
    "print(futureElements)\n",
    "\n",
    "futureElement_x,futureElement_y,scalar = prepare_training_data_array(futureElement, 3)\n",
    "print(futureElement_x.shape,\"shape after preparing data in 1st iteration\")\n",
    "print(\"future element value after preparing data\",futureElement_x)\n",
    "futureElement = model.predict(futureElement_x,batch_size=1)\n",
    "futureElements.append(futureElement)\n",
    "print(\"future element before appending x\",futureElement)\n",
    "futureElement = np.append(futureElement,x)\n",
    "x=futureElement[:3]\n",
    "print(\"future element after appending x\",futureElement)\n",
    "print(\"iteration 1 complete\")\n",
    "print(futureElements)\n",
    "\n",
    "futureElement_x,futureElement_y,scalar = prepare_training_data_array(futureElement, 3)\n",
    "print(futureElement_x.shape,\"shape after preparing data in 1st iteration\")\n",
    "print(\"future element value after preparing data\",futureElement_x)\n",
    "futureElement = model.predict(futureElement_x,batch_size=1)\n",
    "futureElements.append(futureElement)\n",
    "print(\"future element before appending x\",futureElement)\n",
    "futureElement = np.append(futureElement,x)\n",
    "x=futureElement[:3]\n",
    "print(\"future element after appending x\",futureElement)\n",
    "print(\"iteration 2 complete\")\n",
    "print(futureElements)\n",
    "\n",
    "print(type(futureElements))\n",
    "print(type(futureElement))"
   ]
  },
  {
   "cell_type": "code",
   "execution_count": null,
   "metadata": {},
   "outputs": [],
   "source": [
    "flat_list = [x for sublist in futureElements for x in sublist]\n",
    "print(flat_list[0][0][1])\n",
    "\n",
    "#above function loops in below format\n",
    "#for sublist in futureElements:\n",
    "#    for x in sublist:\n",
    "#        flat_list.append(x)"
   ]
  },
  {
   "cell_type": "code",
   "execution_count": null,
   "metadata": {},
   "outputs": [],
   "source": [
    "#price.resample('1W')  \n",
    "#aapl.resample('W').mean()\n",
    "#http://benalexkeen.com/resampling-time-series-data-with-pandas/\n",
    "#resampling based on days and then slicing every 7th day\n",
    "#ts.resample('D').interpolate()[::7]"
   ]
  },
  {
   "cell_type": "code",
   "execution_count": null,
   "metadata": {},
   "outputs": [],
   "source": [
    "#df.last('3M') #last 3 months data\n",
    "# to sort dates column before getting last 3months\n",
    "#df_sorted = df.sort_values(by=\"Date\",ascending=True) \\\n",
    "#    .set_index(\"Date\")\n",
    "#    .last(\"3M\")"
   ]
  },
  {
   "cell_type": "markdown",
   "metadata": {},
   "source": [
    "https://stats.stackexchange.com/questions/305863/how-to-train-lstm-model-on-multiple-time-series-data"
   ]
  },
  {
   "cell_type": "markdown",
   "metadata": {},
   "source": [
    "https://stats.stackexchange.com/questions/67362/shall-i-use-weekly-or-monthly-data-for-forecast"
   ]
  },
  {
   "cell_type": "code",
   "execution_count": null,
   "metadata": {},
   "outputs": [],
   "source": [
    "#weekly predicitons\n",
    "#weekly data\n",
    "week_data = df_1015130.set_index('dates').resample('1W').mean()\n",
    "#week_data['dates'] = pd.to_datetime(week_data['dates'], errors='coerce')\n",
    "\n",
    "\n",
    "week_data = week_data.resample('1W')\n"
   ]
  },
  {
   "cell_type": "code",
   "execution_count": null,
   "metadata": {},
   "outputs": [],
   "source": [
    "#week_data['dates'] = pd.to_datetime(week_data['dates'], unit='D',utc=True)\n",
    "week_data = df_1015130\n",
    "##week_data['New']=week_data.dates.map(week_data.set_index('dates').iloc[1:].resample('D').sum().rolling(7,min_periods =1).visit.mean()).shift()\n",
    "week_data['dates'] = pd.to_datetime(week_data['dates'])\n"
   ]
  },
  {
   "cell_type": "code",
   "execution_count": null,
   "metadata": {},
   "outputs": [],
   "source": [
    "week_data.set_index('dates',inplace=True)\n",
    "week_data_resample = week_data.resample('1W').mean()"
   ]
  },
  {
   "cell_type": "code",
   "execution_count": null,
   "metadata": {},
   "outputs": [],
   "source": [
    "week_data_resample.describe()"
   ]
  },
  {
   "cell_type": "code",
   "execution_count": null,
   "metadata": {},
   "outputs": [],
   "source": [
    "#c_index = week_data_resample.index(\"/2018\")\n",
    "#l2 = l[:c_index]\n",
    "week_data_resample['dates'] = week_data_resample.index\n",
    "week_data_resample['dates']=week_data_resample['dates'].astype(str)\n",
    "week_data_resample = week_data_resample.fillna(0)"
   ]
  },
  {
   "cell_type": "code",
   "execution_count": null,
   "metadata": {},
   "outputs": [],
   "source": [
    "train_week = week_data_resample[week_data_resample['dates'].str.contains('2018') == False]\n",
    "test_week = week_data_resample[week_data_resample['dates'].str.contains('2018') == True]\n",
    "\n",
    "train_x_week,train_y_week, scalar_train = prepare_training_data(train_week['fv_cost'], 3)\n",
    "test_x_week,test_y_week,scalar_test = prepare_training_data(test_week['fv_cost'], 3)\n",
    "print(train_x_week.shape)\n",
    "print(train_y_week.shape)\n"
   ]
  },
  {
   "cell_type": "code",
   "execution_count": null,
   "metadata": {},
   "outputs": [],
   "source": [
    "train_week"
   ]
  },
  {
   "cell_type": "code",
   "execution_count": null,
   "metadata": {},
   "outputs": [],
   "source": [
    "week_data_resample"
   ]
  },
  {
   "cell_type": "code",
   "execution_count": null,
   "metadata": {},
   "outputs": [],
   "source": [
    "lag =  3\n",
    "num_neurons = 24\n",
    "batch_size = 1  # this forces the lstm to step through each time-step one at a time\n",
    "batch_input_shape=(batch_size, 1, lag)\n",
    "\n",
    "# instantiate a sequential model\n",
    "model = Sequential()\n",
    "model.add(Conv1D(filters=24,batch_size=1, kernel_size=3, strides=3, padding=\"same\",activation='relu',dilation_rate=1, input_shape=(1, 3),data_format='channels_first'))\n",
    "model.add(MaxPooling1D(pool_size=3,strides=3, padding=\"same\"))\n",
    "model.add(Dropout(0.2))\n",
    "model.add(LSTM(units=num_neurons, \n",
    "              batch_input_shape=batch_input_shape, return_sequences=False,# as we only want last hidden output \n",
    "              stateful=True))\n",
    "model.add(Dense(1))\n",
    "model.compile(loss='mean_absolute_error', optimizer='adam')"
   ]
  },
  {
   "cell_type": "code",
   "execution_count": null,
   "metadata": {},
   "outputs": [],
   "source": [
    "model.fit(train_x_week, train_y_week, epochs=10, batch_size=batch_size, verbose=2, shuffle=False)"
   ]
  },
  {
   "cell_type": "code",
   "execution_count": null,
   "metadata": {},
   "outputs": [],
   "source": [
    "trainScore = model.evaluate(train_x_week, train_y_week, batch_size=1, verbose=2)\n",
    "print('Train Score: %.2f MSE (%.2f RMSE)' % (trainScore, math.sqrt(trainScore)))\n",
    "testScore = model.evaluate(test_x_week, test_y_week, batch_size=1, verbose=2)\n",
    "print('Test Score: %.2f MSE (%.2f RMSE)' % (testScore, math.sqrt(testScore)))\n",
    "print('unscaled test score %f MSE' %(scalar_test.inverse_transform(testScore)))\n",
    "scalar_train.inverse_transform(trainScore)\n"
   ]
  },
  {
   "cell_type": "code",
   "execution_count": null,
   "metadata": {},
   "outputs": [],
   "source": [
    "# generate predictions for training\n",
    "trainPredict = model.predict(train_x_week,batch_size=1)\n",
    "testPredict = model.predict(test_x_week,batch_size=1)"
   ]
  },
  {
   "cell_type": "code",
   "execution_count": null,
   "metadata": {},
   "outputs": [],
   "source": [
    "futureElement = testPredict[-4:]\n",
    "\n",
    "futureElement_x,futureElement_y,scalar = prepare_training_data_array(futureElement, 3)\n",
    "print(futureElement_x.shape)\n",
    "x=futureElement[:3]\n",
    "#def timestep_ahead(num,model,futureElement):\n",
    "#futureElement = futureElement_x\n",
    "def timestep_ahead_week(num,model,futureElement,x):\n",
    "    futureElements = []\n",
    "    futureElements.append(futureElement.tolist())\n",
    "\n",
    "    for i in range(num):\n",
    "        futureElement_x,futureElement_y,scalar = prepare_training_data_array(futureElement, 3)\n",
    "        print(futureElement_x.shape,\"shape after preparing data in 1st iteration\")\n",
    "        print(\"future element value after preparing data\",futureElement_x)\n",
    "        futureElement = model.predict(futureElement_x,batch_size=1,verbose=2)\n",
    "        futureElements.append(futureElement)\n",
    "        print(\"future element before appending x\",futureElement)\n",
    "        futureElement = np.append(futureElement,x)\n",
    "        x=futureElement[:3]\n",
    "        print(\"future element after appending x\",futureElement)\n",
    "        print(\"iteration \",i,\"  complete\")\n",
    "    return (futureElement[0],futureElements)\n",
    "\n"
   ]
  },
  {
   "cell_type": "code",
   "execution_count": null,
   "metadata": {},
   "outputs": [],
   "source": [
    "_12_weeks_ahead,all_pred = timestep_ahead_week(12,model,futureElement,x)\n",
    "print (\"scaled prediction value on 3rd month ahead \",_12_weeks_ahead)\n",
    "print (\"all predicitons \",all_pred)"
   ]
  },
  {
   "cell_type": "code",
   "execution_count": null,
   "metadata": {},
   "outputs": [],
   "source": [
    "# converting list of arrays to lists\n",
    "#l = [arr.tolist() for arr in l]\n",
    "#[l.tolist() for l in list1]\n",
    "\n",
    "#weekly_pred = [arr.tolist() for arr in all_pred] #list object has no attribute tolist\n",
    "weekly_pred =[np.array(arr).tolist() for arr in all_pred]\n",
    "weekly_pred"
   ]
  },
  {
   "cell_type": "code",
   "execution_count": null,
   "metadata": {},
   "outputs": [],
   "source": [
    "def flatten(l): return flatten(l[0]) + (flatten(l[1:]) if len(l) > 1 else []) if type(l) is list else [l]"
   ]
  },
  {
   "cell_type": "code",
   "execution_count": null,
   "metadata": {},
   "outputs": [],
   "source": [
    "pred_list = flatten(weekly_pred)\n",
    "pred_list"
   ]
  },
  {
   "cell_type": "code",
   "execution_count": null,
   "metadata": {},
   "outputs": [],
   "source": [
    "csvwriter.writerow(pred_list)"
   ]
  },
  {
   "cell_type": "code",
   "execution_count": null,
   "metadata": {},
   "outputs": [],
   "source": [
    "import csv \n",
    "myFile = open('weekly_predictions_3months.csv', 'w')  \n",
    "with myFile:  \n",
    "   writer = csv.writer(myFile)\n",
    "   writer.writerow(pred_list)"
   ]
  },
  {
   "cell_type": "markdown",
   "metadata": {},
   "source": [
    "experiemnt code for outlier behaving customer model"
   ]
  },
  {
   "cell_type": "code",
   "execution_count": null,
   "metadata": {},
   "outputs": [],
   "source": [
    "# predictions and analysis for customer with highest rmse 1681085\n",
    "df1 = df[df.fv_cost.notnull()]\n",
    "cust_data = df1[df1['client_debtor_number'] == 1681085]\n",
    "del cust_data['client_debtor_number']\n",
    "\n",
    "\n",
    "lag =  3\n",
    "\n",
    "# model parameters\n",
    "num_neurons = 24\n",
    "batch_size = 1  # this forces the lstm to step through each time-step one at a time\n",
    "batch_input_shape=(batch_size, 1, lag)\n",
    "\n",
    "# instantiate a sequential model\n",
    "model = Sequential()\n",
    "model.add(Conv1D(filters=24,batch_size=1, kernel_size=3, strides=3, padding=\"same\",activation='relu',dilation_rate=1, input_shape=(1, 3),data_format='channels_first'))\n",
    "model.add(MaxPooling1D(pool_size=3,strides=3, padding=\"same\"))\n",
    "model.add(Dropout(0.2))\n",
    "model.add(LSTM(units=num_neurons, \n",
    "              batch_input_shape=batch_input_shape, return_sequences=False,# as we only want last hidden output \n",
    "              stateful=True))\n",
    "model.add(Dense(1))\n",
    "# we can add dropoutlayer after dense as well again\n",
    "model.add(Dropout(0.2))\n",
    "# compile\n",
    "model.compile(loss='mean_absolute_error', optimizer='adam')\n",
    "\n",
    "\n",
    "\n",
    "train_x = cust_data[cust_data['dates'].str.contains('/2018') == False]\n",
    "test_x = cust_data[cust_data['dates'].str.contains('/2018') == True]\n",
    "print(train_x.head(), len(train_x))\n",
    "print (test_x.head(),len(test_x))\n",
    "\n",
    "train_x_cust,train_y_cust, scalar_train = prepare_training_data(train_x['fv_cost'], 3)\n",
    "test_x_cust,test_y_cust,scalar_test = prepare_training_data(test_x['fv_cost'], 3)  \n",
    "model.fit(train_x_cust, train_y_cust, epochs=10, batch_size=batch_size, verbose=2, shuffle=False)\n",
    "    # input size should be divisible by batch size for stateful LSTM\n",
    "trainScore = model.evaluate(train_x_cust, train_y_cust, batch_size=1, verbose=2)\n",
    "testScore = model.evaluate(test_x_cust, test_y_cust, batch_size=1, verbose=2)\n",
    "train_rmse = trainScore ###\n",
    "test_rmse = testScore ###\n",
    "    # generate predictions for training\n",
    "trainPredict = model.predict(train_x_cust,batch_size=1)\n",
    "testPredict = model.predict(test_x_cust,batch_size=1)\n",
    "yhat_act_test = scalar_test.inverse_transform(testPredict)\n",
    "    # report performance\n",
    "rmse_test = sqrt(mean_squared_error(test_x.fv_cost[-(len(yhat_act_test)):], yhat_act_test))\n",
    "print(cust_id,\" Test RMSE: \",rmse_test)\n",
    "actual_error_scores_test = rmse_test ####\n",
    "yhat_act_train = scalar_train.inverse_transform(trainScore)\n",
    "rmse_train = sqrt(mean_squared_error(train_x.fv_cost[-(len(yhat_act_train)):],yhat_act_train))\n",
    "actual_train_rmse = rmse_train #####\n",
    "    # write predictions into csv\n",
    "result_prediction = pd.DataFrame()#, original_fv : test_y_cust, prediction_fv :testPredict})\n",
    "    #result_prediction['dates'] = test_x['dates']\n",
    "result_prediction['original_fv_scaled'] = test_y_cust\n",
    "result_prediction['prediction_scaled'] = testPredict\n",
    "result_prediction['prediction_actual'] = yhat_act_test\n",
    "result_prediction['fv_actual'] = test_x.fv_cost[-(len(yhat_act_test)):]\n",
    "result_prediction.to_csv(\"predictions_1/predictions_for_client_1681085.csv\")"
   ]
  },
  {
   "cell_type": "code",
   "execution_count": null,
   "metadata": {},
   "outputs": [],
   "source": []
  }
 ],
 "metadata": {
  "kernelspec": {
   "display_name": "Python 3",
   "language": "python",
   "name": "python3"
  },
  "language_info": {
   "codemirror_mode": {
    "name": "ipython",
    "version": 3
   },
   "file_extension": ".py",
   "mimetype": "text/x-python",
   "name": "python",
   "nbconvert_exporter": "python",
   "pygments_lexer": "ipython3",
   "version": "3.6.6"
  }
 },
 "nbformat": 4,
 "nbformat_minor": 2
}
